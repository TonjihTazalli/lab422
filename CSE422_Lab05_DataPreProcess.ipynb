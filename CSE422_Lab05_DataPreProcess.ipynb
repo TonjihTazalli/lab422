{
 "cells": [
  {
   "cell_type": "code",
   "execution_count": null,
   "metadata": {
    "id": "xc1cF4WSPwr5"
   },
   "outputs": [],
   "source": [
    "import pandas as pd\n",
    "import numpy as np\n",
    "import sklearn"
   ]
  },
  {
   "cell_type": "code",
   "execution_count": null,
   "metadata": {
    "colab": {
     "base_uri": "https://localhost:8080/",
     "height": 281
    },
    "id": "o4ZP-JiqQd9l",
    "outputId": "18150170-ae2c-47a9-b964-6441bdf3fa0a"
   },
   "outputs": [
    {
     "data": {
      "text/html": [
       "<div>\n",
       "<style scoped>\n",
       "    .dataframe tbody tr th:only-of-type {\n",
       "        vertical-align: middle;\n",
       "    }\n",
       "\n",
       "    .dataframe tbody tr th {\n",
       "        vertical-align: top;\n",
       "    }\n",
       "\n",
       "    .dataframe thead th {\n",
       "        text-align: right;\n",
       "    }\n",
       "</style>\n",
       "<table border=\"1\" class=\"dataframe\">\n",
       "  <thead>\n",
       "    <tr style=\"text-align: right;\">\n",
       "      <th></th>\n",
       "      <th>Unnamed: 0</th>\n",
       "      <th>class</th>\n",
       "      <th>cap-shape</th>\n",
       "      <th>cap-surface</th>\n",
       "      <th>cap-color</th>\n",
       "      <th>bruises</th>\n",
       "      <th>odor</th>\n",
       "      <th>stalk-shape</th>\n",
       "      <th>stalk-root</th>\n",
       "      <th>stalk-surface-above-ring</th>\n",
       "      <th>stalk-surface-below-ring</th>\n",
       "      <th>stalk-color-above-ring</th>\n",
       "      <th>stalk-color-below-ring</th>\n",
       "      <th>veil-type</th>\n",
       "      <th>veil-color</th>\n",
       "      <th>ring-number</th>\n",
       "      <th>ring-type</th>\n",
       "      <th>spore-print-color</th>\n",
       "      <th>population</th>\n",
       "      <th>habitat</th>\n",
       "    </tr>\n",
       "  </thead>\n",
       "  <tbody>\n",
       "    <tr>\n",
       "      <th>0</th>\n",
       "      <td>0</td>\n",
       "      <td>poisonous</td>\n",
       "      <td>5.0</td>\n",
       "      <td>2</td>\n",
       "      <td>4.0</td>\n",
       "      <td>bruises is there</td>\n",
       "      <td>6</td>\n",
       "      <td>0</td>\n",
       "      <td>3</td>\n",
       "      <td>2</td>\n",
       "      <td>2</td>\n",
       "      <td>7</td>\n",
       "      <td>7</td>\n",
       "      <td>0</td>\n",
       "      <td>2</td>\n",
       "      <td>1</td>\n",
       "      <td>4</td>\n",
       "      <td>2</td>\n",
       "      <td>3</td>\n",
       "      <td>5</td>\n",
       "    </tr>\n",
       "    <tr>\n",
       "      <th>1</th>\n",
       "      <td>1</td>\n",
       "      <td>edible</td>\n",
       "      <td>5.0</td>\n",
       "      <td>2</td>\n",
       "      <td>9.0</td>\n",
       "      <td>bruises is there</td>\n",
       "      <td>0</td>\n",
       "      <td>0</td>\n",
       "      <td>2</td>\n",
       "      <td>2</td>\n",
       "      <td>2</td>\n",
       "      <td>7</td>\n",
       "      <td>7</td>\n",
       "      <td>0</td>\n",
       "      <td>2</td>\n",
       "      <td>1</td>\n",
       "      <td>4</td>\n",
       "      <td>3</td>\n",
       "      <td>2</td>\n",
       "      <td>1</td>\n",
       "    </tr>\n",
       "    <tr>\n",
       "      <th>2</th>\n",
       "      <td>2</td>\n",
       "      <td>edible</td>\n",
       "      <td>0.0</td>\n",
       "      <td>2</td>\n",
       "      <td>8.0</td>\n",
       "      <td>bruises is there</td>\n",
       "      <td>3</td>\n",
       "      <td>0</td>\n",
       "      <td>2</td>\n",
       "      <td>2</td>\n",
       "      <td>2</td>\n",
       "      <td>7</td>\n",
       "      <td>7</td>\n",
       "      <td>0</td>\n",
       "      <td>2</td>\n",
       "      <td>1</td>\n",
       "      <td>4</td>\n",
       "      <td>3</td>\n",
       "      <td>2</td>\n",
       "      <td>3</td>\n",
       "    </tr>\n",
       "    <tr>\n",
       "      <th>3</th>\n",
       "      <td>3</td>\n",
       "      <td>poisonous</td>\n",
       "      <td>5.0</td>\n",
       "      <td>3</td>\n",
       "      <td>8.0</td>\n",
       "      <td>bruises is there</td>\n",
       "      <td>6</td>\n",
       "      <td>0</td>\n",
       "      <td>3</td>\n",
       "      <td>2</td>\n",
       "      <td>2</td>\n",
       "      <td>7</td>\n",
       "      <td>7</td>\n",
       "      <td>0</td>\n",
       "      <td>2</td>\n",
       "      <td>1</td>\n",
       "      <td>4</td>\n",
       "      <td>2</td>\n",
       "      <td>3</td>\n",
       "      <td>5</td>\n",
       "    </tr>\n",
       "    <tr>\n",
       "      <th>4</th>\n",
       "      <td>4</td>\n",
       "      <td>edible</td>\n",
       "      <td>5.0</td>\n",
       "      <td>2</td>\n",
       "      <td>3.0</td>\n",
       "      <td>no bruises</td>\n",
       "      <td>5</td>\n",
       "      <td>1</td>\n",
       "      <td>3</td>\n",
       "      <td>2</td>\n",
       "      <td>2</td>\n",
       "      <td>7</td>\n",
       "      <td>7</td>\n",
       "      <td>0</td>\n",
       "      <td>2</td>\n",
       "      <td>1</td>\n",
       "      <td>0</td>\n",
       "      <td>3</td>\n",
       "      <td>0</td>\n",
       "      <td>1</td>\n",
       "    </tr>\n",
       "  </tbody>\n",
       "</table>\n",
       "</div>"
      ],
      "text/plain": [
       "   Unnamed: 0      class  cap-shape  ...  spore-print-color  population habitat\n",
       "0           0  poisonous        5.0  ...                  2           3       5\n",
       "1           1     edible        5.0  ...                  3           2       1\n",
       "2           2     edible        0.0  ...                  3           2       3\n",
       "3           3  poisonous        5.0  ...                  2           3       5\n",
       "4           4     edible        5.0  ...                  3           0       1\n",
       "\n",
       "[5 rows x 20 columns]"
      ]
     },
     "execution_count": 2,
     "metadata": {
      "tags": []
     },
     "output_type": "execute_result"
    }
   ],
   "source": [
    "#load dataset with pandas\n",
    "msrm_df=pd.read_csv('/content/drive/MyDrive/Ai-datasets/mushroom edibility classification dataset.csv')\n",
    "msrm_df.head()"
   ]
  },
  {
   "cell_type": "code",
   "execution_count": null,
   "metadata": {
    "colab": {
     "base_uri": "https://localhost:8080/"
    },
    "id": "0OyBSubORMtn",
    "outputId": "aac58484-8b79-43a7-f494-496bbd02deac"
   },
   "outputs": [
    {
     "data": {
      "text/plain": [
       "(3124, 20)"
      ]
     },
     "execution_count": 4,
     "metadata": {
      "tags": []
     },
     "output_type": "execute_result"
    }
   ],
   "source": [
    "msrm_df.shape"
   ]
  },
  {
   "cell_type": "code",
   "execution_count": null,
   "metadata": {
    "colab": {
     "base_uri": "https://localhost:8080/"
    },
    "id": "k8Z_FnNnQ5Rh",
    "outputId": "b338db3f-5074-45d2-d6c7-acad64f8a330"
   },
   "outputs": [
    {
     "data": {
      "text/plain": [
       "Unnamed: 0                  0\n",
       "class                       0\n",
       "cap-shape                   8\n",
       "cap-surface                 0\n",
       "cap-color                   8\n",
       "bruises                     0\n",
       "odor                        0\n",
       "stalk-shape                 0\n",
       "stalk-root                  0\n",
       "stalk-surface-above-ring    0\n",
       "stalk-surface-below-ring    0\n",
       "stalk-color-above-ring      0\n",
       "stalk-color-below-ring      0\n",
       "veil-type                   0\n",
       "veil-color                  0\n",
       "ring-number                 0\n",
       "ring-type                   0\n",
       "spore-print-color           0\n",
       "population                  0\n",
       "habitat                     0\n",
       "dtype: int64"
      ]
     },
     "execution_count": 5,
     "metadata": {
      "tags": []
     },
     "output_type": "execute_result"
    }
   ],
   "source": [
    "#handling missing values\n",
    "msrm_df.isnull().sum()"
   ]
  },
  {
   "cell_type": "code",
   "execution_count": null,
   "metadata": {
    "colab": {
     "base_uri": "https://localhost:8080/",
     "height": 406
    },
    "id": "DPBdAhwHUZgD",
    "outputId": "cc005cf3-d5a1-4419-f5cf-3d052944b66c"
   },
   "outputs": [
    {
     "data": {
      "text/html": [
       "<div>\n",
       "<style scoped>\n",
       "    .dataframe tbody tr th:only-of-type {\n",
       "        vertical-align: middle;\n",
       "    }\n",
       "\n",
       "    .dataframe tbody tr th {\n",
       "        vertical-align: top;\n",
       "    }\n",
       "\n",
       "    .dataframe thead th {\n",
       "        text-align: right;\n",
       "    }\n",
       "</style>\n",
       "<table border=\"1\" class=\"dataframe\">\n",
       "  <thead>\n",
       "    <tr style=\"text-align: right;\">\n",
       "      <th></th>\n",
       "      <th>cap-shape</th>\n",
       "    </tr>\n",
       "  </thead>\n",
       "  <tbody>\n",
       "    <tr>\n",
       "      <th>0</th>\n",
       "      <td>5.0</td>\n",
       "    </tr>\n",
       "    <tr>\n",
       "      <th>1</th>\n",
       "      <td>5.0</td>\n",
       "    </tr>\n",
       "    <tr>\n",
       "      <th>2</th>\n",
       "      <td>0.0</td>\n",
       "    </tr>\n",
       "    <tr>\n",
       "      <th>3</th>\n",
       "      <td>5.0</td>\n",
       "    </tr>\n",
       "    <tr>\n",
       "      <th>4</th>\n",
       "      <td>5.0</td>\n",
       "    </tr>\n",
       "    <tr>\n",
       "      <th>...</th>\n",
       "      <td>...</td>\n",
       "    </tr>\n",
       "    <tr>\n",
       "      <th>3119</th>\n",
       "      <td>5.0</td>\n",
       "    </tr>\n",
       "    <tr>\n",
       "      <th>3120</th>\n",
       "      <td>2.0</td>\n",
       "    </tr>\n",
       "    <tr>\n",
       "      <th>3121</th>\n",
       "      <td>2.0</td>\n",
       "    </tr>\n",
       "    <tr>\n",
       "      <th>3122</th>\n",
       "      <td>5.0</td>\n",
       "    </tr>\n",
       "    <tr>\n",
       "      <th>3123</th>\n",
       "      <td>5.0</td>\n",
       "    </tr>\n",
       "  </tbody>\n",
       "</table>\n",
       "<p>3124 rows × 1 columns</p>\n",
       "</div>"
      ],
      "text/plain": [
       "      cap-shape\n",
       "0           5.0\n",
       "1           5.0\n",
       "2           0.0\n",
       "3           5.0\n",
       "4           5.0\n",
       "...         ...\n",
       "3119        5.0\n",
       "3120        2.0\n",
       "3121        2.0\n",
       "3122        5.0\n",
       "3123        5.0\n",
       "\n",
       "[3124 rows x 1 columns]"
      ]
     },
     "execution_count": 6,
     "metadata": {
      "tags": []
     },
     "output_type": "execute_result"
    }
   ],
   "source": [
    "msrm_df[['cap-shape']]"
   ]
  },
  {
   "cell_type": "code",
   "execution_count": null,
   "metadata": {
    "id": "_tgWSGPDRqgZ"
   },
   "outputs": [],
   "source": [
    "from sklearn.impute import SimpleImputer\n",
    "impute = SimpleImputer(missing_values=np.nan, strategy='most_frequent')\n",
    "impute.fit(msrm_df[['cap-shape']])\n",
    "msrm_df['cap-shape']=impute.transform(msrm_df[['cap-shape']])\n"
   ]
  },
  {
   "cell_type": "code",
   "execution_count": null,
   "metadata": {
    "colab": {
     "base_uri": "https://localhost:8080/"
    },
    "id": "hXqNirPpVJzX",
    "outputId": "906513a2-8a98-401e-babc-2cd9222abcb0"
   },
   "outputs": [
    {
     "data": {
      "text/plain": [
       "Unnamed: 0                  0\n",
       "class                       0\n",
       "cap-shape                   0\n",
       "cap-surface                 0\n",
       "cap-color                   8\n",
       "bruises                     0\n",
       "odor                        0\n",
       "stalk-shape                 0\n",
       "stalk-root                  0\n",
       "stalk-surface-above-ring    0\n",
       "stalk-surface-below-ring    0\n",
       "stalk-color-above-ring      0\n",
       "stalk-color-below-ring      0\n",
       "veil-type                   0\n",
       "veil-color                  0\n",
       "ring-number                 0\n",
       "ring-type                   0\n",
       "spore-print-color           0\n",
       "population                  0\n",
       "habitat                     0\n",
       "dtype: int64"
      ]
     },
     "execution_count": 8,
     "metadata": {
      "tags": []
     },
     "output_type": "execute_result"
    }
   ],
   "source": [
    "msrm_df.isnull().sum()"
   ]
  },
  {
   "cell_type": "code",
   "execution_count": null,
   "metadata": {
    "id": "TjO3AX56VSNP"
   },
   "outputs": [],
   "source": [
    "impute.fit(msrm_df[['cap-color']])\n",
    "msrm_df['cap-color']=impute.transform(msrm_df[['cap-color']])"
   ]
  },
  {
   "cell_type": "code",
   "execution_count": null,
   "metadata": {
    "colab": {
     "base_uri": "https://localhost:8080/"
    },
    "id": "i43f6EqvVZHp",
    "outputId": "6c323a64-fce1-432f-ac60-e71b001b3479"
   },
   "outputs": [
    {
     "data": {
      "text/plain": [
       "Unnamed: 0                  0\n",
       "class                       0\n",
       "cap-shape                   0\n",
       "cap-surface                 0\n",
       "cap-color                   0\n",
       "bruises                     0\n",
       "odor                        0\n",
       "stalk-shape                 0\n",
       "stalk-root                  0\n",
       "stalk-surface-above-ring    0\n",
       "stalk-surface-below-ring    0\n",
       "stalk-color-above-ring      0\n",
       "stalk-color-below-ring      0\n",
       "veil-type                   0\n",
       "veil-color                  0\n",
       "ring-number                 0\n",
       "ring-type                   0\n",
       "spore-print-color           0\n",
       "population                  0\n",
       "habitat                     0\n",
       "dtype: int64"
      ]
     },
     "execution_count": 10,
     "metadata": {
      "tags": []
     },
     "output_type": "execute_result"
    }
   ],
   "source": [
    "msrm_df.isnull().sum()"
   ]
  },
  {
   "cell_type": "code",
   "execution_count": null,
   "metadata": {
    "colab": {
     "base_uri": "https://localhost:8080/"
    },
    "id": "VCNu37x9VjCr",
    "outputId": "9bb3474f-935b-4b60-ca12-7aaf52f8b6f0"
   },
   "outputs": [
    {
     "name": "stdout",
     "output_type": "stream",
     "text": [
      "<class 'pandas.core.frame.DataFrame'>\n",
      "RangeIndex: 3124 entries, 0 to 3123\n",
      "Data columns (total 20 columns):\n",
      " #   Column                    Non-Null Count  Dtype  \n",
      "---  ------                    --------------  -----  \n",
      " 0   Unnamed: 0                3124 non-null   int64  \n",
      " 1   class                     3124 non-null   object \n",
      " 2   cap-shape                 3124 non-null   float64\n",
      " 3   cap-surface               3124 non-null   int64  \n",
      " 4   cap-color                 3124 non-null   float64\n",
      " 5   bruises                   3124 non-null   object \n",
      " 6   odor                      3124 non-null   int64  \n",
      " 7   stalk-shape               3124 non-null   int64  \n",
      " 8   stalk-root                3124 non-null   int64  \n",
      " 9   stalk-surface-above-ring  3124 non-null   int64  \n",
      " 10  stalk-surface-below-ring  3124 non-null   int64  \n",
      " 11  stalk-color-above-ring    3124 non-null   int64  \n",
      " 12  stalk-color-below-ring    3124 non-null   int64  \n",
      " 13  veil-type                 3124 non-null   int64  \n",
      " 14  veil-color                3124 non-null   int64  \n",
      " 15  ring-number               3124 non-null   int64  \n",
      " 16  ring-type                 3124 non-null   int64  \n",
      " 17  spore-print-color         3124 non-null   int64  \n",
      " 18  population                3124 non-null   int64  \n",
      " 19  habitat                   3124 non-null   int64  \n",
      "dtypes: float64(2), int64(16), object(2)\n",
      "memory usage: 488.2+ KB\n"
     ]
    }
   ],
   "source": [
    "# Encoding categorical features\n",
    "msrm_df.info()\n"
   ]
  },
  {
   "cell_type": "code",
   "execution_count": null,
   "metadata": {
    "colab": {
     "base_uri": "https://localhost:8080/"
    },
    "id": "n50Wmf3xxyWt",
    "outputId": "a518f0e7-bdb1-4944-e58e-ae02ee3882f4"
   },
   "outputs": [
    {
     "name": "stdout",
     "output_type": "stream",
     "text": [
      "<class 'pandas.core.frame.DataFrame'>\n",
      "RangeIndex: 3124 entries, 0 to 3123\n",
      "Data columns (total 20 columns):\n",
      " #   Column                    Non-Null Count  Dtype  \n",
      "---  ------                    --------------  -----  \n",
      " 0   Unnamed: 0                3124 non-null   int64  \n",
      " 1   class                     3124 non-null   object \n",
      " 2   cap-shape                 3124 non-null   float64\n",
      " 3   cap-surface               3124 non-null   int64  \n",
      " 4   cap-color                 3124 non-null   float64\n",
      " 5   bruises                   3124 non-null   object \n",
      " 6   odor                      3124 non-null   int64  \n",
      " 7   stalk-shape               3124 non-null   int64  \n",
      " 8   stalk-root                3124 non-null   int64  \n",
      " 9   stalk-surface-above-ring  3124 non-null   int64  \n",
      " 10  stalk-surface-below-ring  3124 non-null   int64  \n",
      " 11  stalk-color-above-ring    3124 non-null   int64  \n",
      " 12  stalk-color-below-ring    3124 non-null   int64  \n",
      " 13  veil-type                 3124 non-null   int64  \n",
      " 14  veil-color                3124 non-null   int64  \n",
      " 15  ring-number               3124 non-null   int64  \n",
      " 16  ring-type                 3124 non-null   int64  \n",
      " 17  spore-print-color         3124 non-null   int64  \n",
      " 18  population                3124 non-null   int64  \n",
      " 19  habitat                   3124 non-null   int64  \n",
      "dtypes: float64(2), int64(16), object(2)\n",
      "memory usage: 488.2+ KB\n"
     ]
    },
    {
     "data": {
      "text/plain": [
       "array(['bruises is there', 'no bruises'], dtype=object)"
      ]
     },
     "execution_count": 12,
     "metadata": {
      "tags": []
     },
     "output_type": "execute_result"
    }
   ],
   "source": [
    "msrm_df.info()\n",
    "\n",
    "msrm_df['bruises'].unique()"
   ]
  },
  {
   "cell_type": "code",
   "execution_count": null,
   "metadata": {
    "id": "aMdzLEplx_3V"
   },
   "outputs": [],
   "source": [
    "msrm_df['bruises']=msrm_df['bruises'].map({'bruises is there':1, 'no bruises':0})"
   ]
  },
  {
   "cell_type": "code",
   "execution_count": null,
   "metadata": {
    "colab": {
     "base_uri": "https://localhost:8080/"
    },
    "id": "w-wXkzzcyJCv",
    "outputId": "d8981bec-bb01-446d-c870-d0a5353a9509"
   },
   "outputs": [
    {
     "name": "stdout",
     "output_type": "stream",
     "text": [
      "<class 'pandas.core.frame.DataFrame'>\n",
      "RangeIndex: 3124 entries, 0 to 3123\n",
      "Data columns (total 20 columns):\n",
      " #   Column                    Non-Null Count  Dtype  \n",
      "---  ------                    --------------  -----  \n",
      " 0   Unnamed: 0                3124 non-null   int64  \n",
      " 1   class                     3124 non-null   object \n",
      " 2   cap-shape                 3124 non-null   float64\n",
      " 3   cap-surface               3124 non-null   int64  \n",
      " 4   cap-color                 3124 non-null   float64\n",
      " 5   bruises                   3124 non-null   int64  \n",
      " 6   odor                      3124 non-null   int64  \n",
      " 7   stalk-shape               3124 non-null   int64  \n",
      " 8   stalk-root                3124 non-null   int64  \n",
      " 9   stalk-surface-above-ring  3124 non-null   int64  \n",
      " 10  stalk-surface-below-ring  3124 non-null   int64  \n",
      " 11  stalk-color-above-ring    3124 non-null   int64  \n",
      " 12  stalk-color-below-ring    3124 non-null   int64  \n",
      " 13  veil-type                 3124 non-null   int64  \n",
      " 14  veil-color                3124 non-null   int64  \n",
      " 15  ring-number               3124 non-null   int64  \n",
      " 16  ring-type                 3124 non-null   int64  \n",
      " 17  spore-print-color         3124 non-null   int64  \n",
      " 18  population                3124 non-null   int64  \n",
      " 19  habitat                   3124 non-null   int64  \n",
      "dtypes: float64(2), int64(17), object(1)\n",
      "memory usage: 488.2+ KB\n"
     ]
    }
   ],
   "source": [
    "msrm_df.info()"
   ]
  },
  {
   "cell_type": "code",
   "execution_count": null,
   "metadata": {
    "colab": {
     "base_uri": "https://localhost:8080/"
    },
    "id": "mIzxfPjEC4du",
    "outputId": "d9a3880c-0200-4fff-c8da-4feb12d035b6"
   },
   "outputs": [
    {
     "data": {
      "text/plain": [
       "array([1])"
      ]
     },
     "execution_count": 15,
     "metadata": {
      "tags": []
     },
     "output_type": "execute_result"
    }
   ],
   "source": [
    "msrm_df['ring-number'].unique()"
   ]
  },
  {
   "cell_type": "code",
   "execution_count": null,
   "metadata": {
    "colab": {
     "base_uri": "https://localhost:8080/"
    },
    "id": "pBmZnBSrDKnv",
    "outputId": "a6b7da28-263a-4ee3-9dd0-a1b2e187b83d"
   },
   "outputs": [
    {
     "name": "stdout",
     "output_type": "stream",
     "text": [
      "<class 'pandas.core.frame.DataFrame'>\n",
      "RangeIndex: 3124 entries, 0 to 3123\n",
      "Data columns (total 19 columns):\n",
      " #   Column                    Non-Null Count  Dtype  \n",
      "---  ------                    --------------  -----  \n",
      " 0   Unnamed: 0                3124 non-null   int64  \n",
      " 1   class                     3124 non-null   object \n",
      " 2   cap-shape                 3124 non-null   float64\n",
      " 3   cap-surface               3124 non-null   int64  \n",
      " 4   cap-color                 3124 non-null   float64\n",
      " 5   bruises                   3124 non-null   int64  \n",
      " 6   odor                      3124 non-null   int64  \n",
      " 7   stalk-shape               3124 non-null   int64  \n",
      " 8   stalk-root                3124 non-null   int64  \n",
      " 9   stalk-surface-above-ring  3124 non-null   int64  \n",
      " 10  stalk-surface-below-ring  3124 non-null   int64  \n",
      " 11  stalk-color-above-ring    3124 non-null   int64  \n",
      " 12  stalk-color-below-ring    3124 non-null   int64  \n",
      " 13  veil-type                 3124 non-null   int64  \n",
      " 14  veil-color                3124 non-null   int64  \n",
      " 15  ring-type                 3124 non-null   int64  \n",
      " 16  spore-print-color         3124 non-null   int64  \n",
      " 17  population                3124 non-null   int64  \n",
      " 18  habitat                   3124 non-null   int64  \n",
      "dtypes: float64(2), int64(16), object(1)\n",
      "memory usage: 463.8+ KB\n"
     ]
    }
   ],
   "source": [
    "msrm_df.drop(['ring-number'], axis=1, inplace=True)\n",
    "msrm_df.info()"
   ]
  },
  {
   "cell_type": "code",
   "execution_count": null,
   "metadata": {
    "colab": {
     "base_uri": "https://localhost:8080/"
    },
    "id": "P4O6ZpaUDSUa",
    "outputId": "9f403cd8-c3d7-43a5-9d83-17ecfd41ff58"
   },
   "outputs": [
    {
     "data": {
      "text/plain": [
       "array([2])"
      ]
     },
     "execution_count": 17,
     "metadata": {
      "tags": []
     },
     "output_type": "execute_result"
    }
   ],
   "source": [
    "msrm_df['veil-color'].unique()"
   ]
  },
  {
   "cell_type": "code",
   "execution_count": null,
   "metadata": {
    "colab": {
     "base_uri": "https://localhost:8080/"
    },
    "id": "DmaN48D4DVrN",
    "outputId": "1f12ef5c-d0e0-4c04-a061-00f2467fe276"
   },
   "outputs": [
    {
     "name": "stdout",
     "output_type": "stream",
     "text": [
      "<class 'pandas.core.frame.DataFrame'>\n",
      "RangeIndex: 3124 entries, 0 to 3123\n",
      "Data columns (total 18 columns):\n",
      " #   Column                    Non-Null Count  Dtype  \n",
      "---  ------                    --------------  -----  \n",
      " 0   Unnamed: 0                3124 non-null   int64  \n",
      " 1   class                     3124 non-null   object \n",
      " 2   cap-shape                 3124 non-null   float64\n",
      " 3   cap-surface               3124 non-null   int64  \n",
      " 4   cap-color                 3124 non-null   float64\n",
      " 5   bruises                   3124 non-null   int64  \n",
      " 6   odor                      3124 non-null   int64  \n",
      " 7   stalk-shape               3124 non-null   int64  \n",
      " 8   stalk-root                3124 non-null   int64  \n",
      " 9   stalk-surface-above-ring  3124 non-null   int64  \n",
      " 10  stalk-surface-below-ring  3124 non-null   int64  \n",
      " 11  stalk-color-above-ring    3124 non-null   int64  \n",
      " 12  stalk-color-below-ring    3124 non-null   int64  \n",
      " 13  veil-type                 3124 non-null   int64  \n",
      " 14  ring-type                 3124 non-null   int64  \n",
      " 15  spore-print-color         3124 non-null   int64  \n",
      " 16  population                3124 non-null   int64  \n",
      " 17  habitat                   3124 non-null   int64  \n",
      "dtypes: float64(2), int64(15), object(1)\n",
      "memory usage: 439.4+ KB\n"
     ]
    }
   ],
   "source": [
    "msrm_df.drop(['veil-color'], axis=1, inplace=True)\n",
    "msrm_df.info()"
   ]
  },
  {
   "cell_type": "code",
   "execution_count": null,
   "metadata": {
    "colab": {
     "base_uri": "https://localhost:8080/"
    },
    "id": "k8LXp4OLDZ5X",
    "outputId": "83aa0b2c-757a-4f52-a5b6-8338f846dad5"
   },
   "outputs": [
    {
     "data": {
      "text/plain": [
       "array([0])"
      ]
     },
     "execution_count": 19,
     "metadata": {
      "tags": []
     },
     "output_type": "execute_result"
    }
   ],
   "source": [
    "msrm_df['veil-type'].unique()"
   ]
  },
  {
   "cell_type": "code",
   "execution_count": null,
   "metadata": {
    "colab": {
     "base_uri": "https://localhost:8080/"
    },
    "id": "qo68A0nnDgQQ",
    "outputId": "aaa2b841-3355-439f-de54-94e22e635cb5"
   },
   "outputs": [
    {
     "name": "stdout",
     "output_type": "stream",
     "text": [
      "<class 'pandas.core.frame.DataFrame'>\n",
      "RangeIndex: 3124 entries, 0 to 3123\n",
      "Data columns (total 17 columns):\n",
      " #   Column                    Non-Null Count  Dtype  \n",
      "---  ------                    --------------  -----  \n",
      " 0   Unnamed: 0                3124 non-null   int64  \n",
      " 1   class                     3124 non-null   object \n",
      " 2   cap-shape                 3124 non-null   float64\n",
      " 3   cap-surface               3124 non-null   int64  \n",
      " 4   cap-color                 3124 non-null   float64\n",
      " 5   bruises                   3124 non-null   int64  \n",
      " 6   odor                      3124 non-null   int64  \n",
      " 7   stalk-shape               3124 non-null   int64  \n",
      " 8   stalk-root                3124 non-null   int64  \n",
      " 9   stalk-surface-above-ring  3124 non-null   int64  \n",
      " 10  stalk-surface-below-ring  3124 non-null   int64  \n",
      " 11  stalk-color-above-ring    3124 non-null   int64  \n",
      " 12  stalk-color-below-ring    3124 non-null   int64  \n",
      " 13  ring-type                 3124 non-null   int64  \n",
      " 14  spore-print-color         3124 non-null   int64  \n",
      " 15  population                3124 non-null   int64  \n",
      " 16  habitat                   3124 non-null   int64  \n",
      "dtypes: float64(2), int64(14), object(1)\n",
      "memory usage: 415.0+ KB\n"
     ]
    }
   ],
   "source": [
    "msrm_df.drop(['veil-type'], axis=1, inplace=True)\n",
    "msrm_df.info()"
   ]
  },
  {
   "cell_type": "code",
   "execution_count": null,
   "metadata": {
    "id": "oKucACyzylao"
   },
   "outputs": [],
   "source": [
    "y=msrm_df[['class']]\n",
    "x=msrm_df.drop(['class'], axis=1)\n",
    "\n",
    "from sklearn.model_selection import train_test_split\n",
    "X_train, X_test, y_train, y_test = train_test_split(x, y, random_state=1)\n"
   ]
  },
  {
   "cell_type": "code",
   "execution_count": null,
   "metadata": {
    "colab": {
     "base_uri": "https://localhost:8080/"
    },
    "id": "uFkRdVAF_R5K",
    "outputId": "e708c7cc-61cd-4618-8c3a-af09bde47794"
   },
   "outputs": [
    {
     "name": "stdout",
     "output_type": "stream",
     "text": [
      "(2343, 16)\n",
      "(781, 16)\n",
      "(3124, 17)\n"
     ]
    }
   ],
   "source": [
    "print(X_train.shape)\n",
    "print(X_test.shape)\n",
    "print(msrm_df.shape)"
   ]
  },
  {
   "cell_type": "code",
   "execution_count": null,
   "metadata": {
    "colab": {
     "base_uri": "https://localhost:8080/"
    },
    "id": "b_MA_pqo8Y6l",
    "outputId": "d7582649-656f-484e-b861-97ea081b2cf8"
   },
   "outputs": [
    {
     "data": {
      "text/plain": [
       "MinMaxScaler(copy=True, feature_range=(0, 1))"
      ]
     },
     "execution_count": 23,
     "metadata": {
      "tags": []
     },
     "output_type": "execute_result"
    }
   ],
   "source": [
    "from sklearn.preprocessing import MinMaxScaler\n",
    "scaler=MinMaxScaler()\n",
    "scaler.fit(X_train)"
   ]
  },
  {
   "cell_type": "code",
   "execution_count": null,
   "metadata": {
    "id": "UBmeIF571Q_4"
   },
   "outputs": [],
   "source": [
    "X_train=scaler.transform(X_train)"
   ]
  },
  {
   "cell_type": "code",
   "execution_count": null,
   "metadata": {
    "colab": {
     "base_uri": "https://localhost:8080/"
    },
    "id": "FQ3PLFK_1e7B",
    "outputId": "b5334b13-cb3f-4b06-cba7-c1421382fe3e"
   },
   "outputs": [
    {
     "name": "stdout",
     "output_type": "stream",
     "text": [
      "per-feature minimum after scaling:\n",
      " [0. 0. 0. 0. 0. 0. 0. 0. 0. 0. 0. 0. 0. 0. 0. 0.]\n",
      "per-feature maxmimum after scaling:\n",
      " [1. 1. 1. 1. 1. 1. 1. 1. 1. 1. 1. 1. 1. 1. 1. 1.]\n"
     ]
    }
   ],
   "source": [
    "print(\"per-feature minimum after scaling:\\n {}\".format(X_train.min(axis=0)))\n",
    "print(\"per-feature maxmimum after scaling:\\n {}\".format(X_train.max(axis=0)))"
   ]
  },
  {
   "cell_type": "code",
   "execution_count": null,
   "metadata": {
    "id": "3VnFkLdp2TmQ"
   },
   "outputs": [],
   "source": []
  }
 ],
 "metadata": {
  "colab": {
   "collapsed_sections": [],
   "name": "CSE422_Lab05_DataPreProcess.ipynb",
   "provenance": []
  },
  "kernelspec": {
   "display_name": "Python 3",
   "language": "python",
   "name": "python3"
  },
  "language_info": {
   "codemirror_mode": {
    "name": "ipython",
    "version": 3
   },
   "file_extension": ".py",
   "mimetype": "text/x-python",
   "name": "python",
   "nbconvert_exporter": "python",
   "pygments_lexer": "ipython3",
   "version": "3.8.5"
  }
 },
 "nbformat": 4,
 "nbformat_minor": 1
}
