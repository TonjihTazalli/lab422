{
 "cells": [
  {
   "cell_type": "code",
   "execution_count": null,
   "metadata": {
    "id": "zbCTQTvbGjme"
   },
   "outputs": [],
   "source": [
    "import pandas as pd\n",
    "import numpy as np\n",
    "import sklearn"
   ]
  },
  {
   "cell_type": "code",
   "execution_count": null,
   "metadata": {
    "id": "y8yyYebbf56f"
   },
   "outputs": [],
   "source": []
  },
  {
   "cell_type": "code",
   "execution_count": null,
   "metadata": {
    "colab": {
     "base_uri": "https://localhost:8080/"
    },
    "id": "oBlfcVPRJGDh",
    "outputId": "06cb4668-8b2a-4746-b2de-8605d69780f4"
   },
   "outputs": [
    {
     "name": "stdout",
     "output_type": "stream",
     "text": [
      "Name: scikit-learn\n",
      "Version: 0.22.2.post1\n",
      "Summary: A set of python modules for machine learning and data mining\n",
      "Home-page: http://scikit-learn.org\n",
      "Author: None\n",
      "Author-email: None\n",
      "License: new BSD\n",
      "Location: /usr/local/lib/python3.6/dist-packages\n",
      "Requires: scipy, numpy, joblib\n",
      "Required-by: yellowbrick, umap-learn, textgenrnn, sklearn, sklearn-pandas, mlxtend, lucid, lightgbm, librosa, imbalanced-learn, fancyimpute\n"
     ]
    }
   ],
   "source": [
    "!python -m pip show scikit-learn"
   ]
  },
  {
   "cell_type": "code",
   "execution_count": null,
   "metadata": {
    "colab": {
     "base_uri": "https://localhost:8080/",
     "height": 281
    },
    "id": "cQNcCVy5GlKW",
    "outputId": "655179b2-e0d7-4cf9-c8e0-249c1abe1a40"
   },
   "outputs": [
    {
     "data": {
      "text/html": [
       "<div>\n",
       "<style scoped>\n",
       "    .dataframe tbody tr th:only-of-type {\n",
       "        vertical-align: middle;\n",
       "    }\n",
       "\n",
       "    .dataframe tbody tr th {\n",
       "        vertical-align: top;\n",
       "    }\n",
       "\n",
       "    .dataframe thead th {\n",
       "        text-align: right;\n",
       "    }\n",
       "</style>\n",
       "<table border=\"1\" class=\"dataframe\">\n",
       "  <thead>\n",
       "    <tr style=\"text-align: right;\">\n",
       "      <th></th>\n",
       "      <th>Unnamed: 0</th>\n",
       "      <th>class</th>\n",
       "      <th>cap-shape</th>\n",
       "      <th>cap-surface</th>\n",
       "      <th>cap-color</th>\n",
       "      <th>bruises</th>\n",
       "      <th>odor</th>\n",
       "      <th>stalk-shape</th>\n",
       "      <th>stalk-root</th>\n",
       "      <th>stalk-surface-above-ring</th>\n",
       "      <th>stalk-surface-below-ring</th>\n",
       "      <th>stalk-color-above-ring</th>\n",
       "      <th>stalk-color-below-ring</th>\n",
       "      <th>veil-type</th>\n",
       "      <th>veil-color</th>\n",
       "      <th>ring-number</th>\n",
       "      <th>ring-type</th>\n",
       "      <th>spore-print-color</th>\n",
       "      <th>population</th>\n",
       "      <th>habitat</th>\n",
       "    </tr>\n",
       "  </thead>\n",
       "  <tbody>\n",
       "    <tr>\n",
       "      <th>0</th>\n",
       "      <td>0</td>\n",
       "      <td>poisonous</td>\n",
       "      <td>5.0</td>\n",
       "      <td>2</td>\n",
       "      <td>4.0</td>\n",
       "      <td>bruises is there</td>\n",
       "      <td>6</td>\n",
       "      <td>0</td>\n",
       "      <td>3</td>\n",
       "      <td>2</td>\n",
       "      <td>2</td>\n",
       "      <td>7</td>\n",
       "      <td>7</td>\n",
       "      <td>0</td>\n",
       "      <td>2</td>\n",
       "      <td>1</td>\n",
       "      <td>4</td>\n",
       "      <td>2</td>\n",
       "      <td>3</td>\n",
       "      <td>5</td>\n",
       "    </tr>\n",
       "    <tr>\n",
       "      <th>1</th>\n",
       "      <td>1</td>\n",
       "      <td>edible</td>\n",
       "      <td>5.0</td>\n",
       "      <td>2</td>\n",
       "      <td>9.0</td>\n",
       "      <td>bruises is there</td>\n",
       "      <td>0</td>\n",
       "      <td>0</td>\n",
       "      <td>2</td>\n",
       "      <td>2</td>\n",
       "      <td>2</td>\n",
       "      <td>7</td>\n",
       "      <td>7</td>\n",
       "      <td>0</td>\n",
       "      <td>2</td>\n",
       "      <td>1</td>\n",
       "      <td>4</td>\n",
       "      <td>3</td>\n",
       "      <td>2</td>\n",
       "      <td>1</td>\n",
       "    </tr>\n",
       "    <tr>\n",
       "      <th>2</th>\n",
       "      <td>2</td>\n",
       "      <td>edible</td>\n",
       "      <td>0.0</td>\n",
       "      <td>2</td>\n",
       "      <td>8.0</td>\n",
       "      <td>bruises is there</td>\n",
       "      <td>3</td>\n",
       "      <td>0</td>\n",
       "      <td>2</td>\n",
       "      <td>2</td>\n",
       "      <td>2</td>\n",
       "      <td>7</td>\n",
       "      <td>7</td>\n",
       "      <td>0</td>\n",
       "      <td>2</td>\n",
       "      <td>1</td>\n",
       "      <td>4</td>\n",
       "      <td>3</td>\n",
       "      <td>2</td>\n",
       "      <td>3</td>\n",
       "    </tr>\n",
       "    <tr>\n",
       "      <th>3</th>\n",
       "      <td>3</td>\n",
       "      <td>poisonous</td>\n",
       "      <td>5.0</td>\n",
       "      <td>3</td>\n",
       "      <td>8.0</td>\n",
       "      <td>bruises is there</td>\n",
       "      <td>6</td>\n",
       "      <td>0</td>\n",
       "      <td>3</td>\n",
       "      <td>2</td>\n",
       "      <td>2</td>\n",
       "      <td>7</td>\n",
       "      <td>7</td>\n",
       "      <td>0</td>\n",
       "      <td>2</td>\n",
       "      <td>1</td>\n",
       "      <td>4</td>\n",
       "      <td>2</td>\n",
       "      <td>3</td>\n",
       "      <td>5</td>\n",
       "    </tr>\n",
       "    <tr>\n",
       "      <th>4</th>\n",
       "      <td>4</td>\n",
       "      <td>edible</td>\n",
       "      <td>5.0</td>\n",
       "      <td>2</td>\n",
       "      <td>3.0</td>\n",
       "      <td>no bruises</td>\n",
       "      <td>5</td>\n",
       "      <td>1</td>\n",
       "      <td>3</td>\n",
       "      <td>2</td>\n",
       "      <td>2</td>\n",
       "      <td>7</td>\n",
       "      <td>7</td>\n",
       "      <td>0</td>\n",
       "      <td>2</td>\n",
       "      <td>1</td>\n",
       "      <td>0</td>\n",
       "      <td>3</td>\n",
       "      <td>0</td>\n",
       "      <td>1</td>\n",
       "    </tr>\n",
       "  </tbody>\n",
       "</table>\n",
       "</div>"
      ],
      "text/plain": [
       "   Unnamed: 0      class  cap-shape  ...  spore-print-color  population habitat\n",
       "0           0  poisonous        5.0  ...                  2           3       5\n",
       "1           1     edible        5.0  ...                  3           2       1\n",
       "2           2     edible        0.0  ...                  3           2       3\n",
       "3           3  poisonous        5.0  ...                  2           3       5\n",
       "4           4     edible        5.0  ...                  3           0       1\n",
       "\n",
       "[5 rows x 20 columns]"
      ]
     },
     "execution_count": 269,
     "metadata": {
      "tags": []
     },
     "output_type": "execute_result"
    }
   ],
   "source": [
    "#load dataset with pandas\n",
    "msrm_df=pd.read_csv('/content/drive/MyDrive/Ai-datasets/mushroom edibility classification dataset.csv')\n",
    "msrm_df.head()"
   ]
  },
  {
   "cell_type": "code",
   "execution_count": null,
   "metadata": {
    "colab": {
     "base_uri": "https://localhost:8080/"
    },
    "id": "Ux8xoqPMGzzW",
    "outputId": "2a5751a6-bfeb-41e1-9b6d-429ca4dcd54d"
   },
   "outputs": [
    {
     "data": {
      "text/plain": [
       "(3124, 20)"
      ]
     },
     "execution_count": 270,
     "metadata": {
      "tags": []
     },
     "output_type": "execute_result"
    }
   ],
   "source": [
    "msrm_df.shape"
   ]
  },
  {
   "cell_type": "code",
   "execution_count": null,
   "metadata": {
    "colab": {
     "base_uri": "https://localhost:8080/"
    },
    "id": "OsEE_kQPG1p-",
    "outputId": "74ff5d12-7546-4516-8871-10d7851b2676"
   },
   "outputs": [
    {
     "data": {
      "text/plain": [
       "Unnamed: 0                  0\n",
       "class                       0\n",
       "cap-shape                   8\n",
       "cap-surface                 0\n",
       "cap-color                   8\n",
       "bruises                     0\n",
       "odor                        0\n",
       "stalk-shape                 0\n",
       "stalk-root                  0\n",
       "stalk-surface-above-ring    0\n",
       "stalk-surface-below-ring    0\n",
       "stalk-color-above-ring      0\n",
       "stalk-color-below-ring      0\n",
       "veil-type                   0\n",
       "veil-color                  0\n",
       "ring-number                 0\n",
       "ring-type                   0\n",
       "spore-print-color           0\n",
       "population                  0\n",
       "habitat                     0\n",
       "dtype: int64"
      ]
     },
     "execution_count": 271,
     "metadata": {
      "tags": []
     },
     "output_type": "execute_result"
    }
   ],
   "source": [
    "#handling missing values\n",
    "msrm_df.isnull().sum()"
   ]
  },
  {
   "cell_type": "code",
   "execution_count": null,
   "metadata": {
    "id": "B05huf62G4hn"
   },
   "outputs": [],
   "source": [
    "from sklearn.impute import SimpleImputer\n",
    "impute = SimpleImputer(missing_values=np.nan, strategy='most_frequent')\n",
    "impute.fit(msrm_df[['cap-shape']])\n",
    "msrm_df['cap-shape']=impute.transform(msrm_df[['cap-shape']])"
   ]
  },
  {
   "cell_type": "code",
   "execution_count": null,
   "metadata": {
    "id": "jApzDCtyG5vy"
   },
   "outputs": [],
   "source": [
    "impute.fit(msrm_df[['cap-color']])\n",
    "msrm_df['cap-color']=impute.transform(msrm_df[['cap-color']])"
   ]
  },
  {
   "cell_type": "code",
   "execution_count": null,
   "metadata": {
    "colab": {
     "base_uri": "https://localhost:8080/"
    },
    "id": "rjIjRE2RG7dS",
    "outputId": "33cdb16d-bd56-4dcc-c447-055ec987b646"
   },
   "outputs": [
    {
     "data": {
      "text/plain": [
       "Unnamed: 0                  0\n",
       "class                       0\n",
       "cap-shape                   0\n",
       "cap-surface                 0\n",
       "cap-color                   0\n",
       "bruises                     0\n",
       "odor                        0\n",
       "stalk-shape                 0\n",
       "stalk-root                  0\n",
       "stalk-surface-above-ring    0\n",
       "stalk-surface-below-ring    0\n",
       "stalk-color-above-ring      0\n",
       "stalk-color-below-ring      0\n",
       "veil-type                   0\n",
       "veil-color                  0\n",
       "ring-number                 0\n",
       "ring-type                   0\n",
       "spore-print-color           0\n",
       "population                  0\n",
       "habitat                     0\n",
       "dtype: int64"
      ]
     },
     "execution_count": 274,
     "metadata": {
      "tags": []
     },
     "output_type": "execute_result"
    }
   ],
   "source": [
    "msrm_df.isnull().sum()"
   ]
  },
  {
   "cell_type": "code",
   "execution_count": null,
   "metadata": {
    "colab": {
     "base_uri": "https://localhost:8080/"
    },
    "id": "t9_Dvao3G98k",
    "outputId": "738ee86a-4979-44de-89b0-7774a9f1c83a"
   },
   "outputs": [
    {
     "name": "stdout",
     "output_type": "stream",
     "text": [
      "<class 'pandas.core.frame.DataFrame'>\n",
      "RangeIndex: 3124 entries, 0 to 3123\n",
      "Data columns (total 20 columns):\n",
      " #   Column                    Non-Null Count  Dtype  \n",
      "---  ------                    --------------  -----  \n",
      " 0   Unnamed: 0                3124 non-null   int64  \n",
      " 1   class                     3124 non-null   object \n",
      " 2   cap-shape                 3124 non-null   float64\n",
      " 3   cap-surface               3124 non-null   int64  \n",
      " 4   cap-color                 3124 non-null   float64\n",
      " 5   bruises                   3124 non-null   object \n",
      " 6   odor                      3124 non-null   int64  \n",
      " 7   stalk-shape               3124 non-null   int64  \n",
      " 8   stalk-root                3124 non-null   int64  \n",
      " 9   stalk-surface-above-ring  3124 non-null   int64  \n",
      " 10  stalk-surface-below-ring  3124 non-null   int64  \n",
      " 11  stalk-color-above-ring    3124 non-null   int64  \n",
      " 12  stalk-color-below-ring    3124 non-null   int64  \n",
      " 13  veil-type                 3124 non-null   int64  \n",
      " 14  veil-color                3124 non-null   int64  \n",
      " 15  ring-number               3124 non-null   int64  \n",
      " 16  ring-type                 3124 non-null   int64  \n",
      " 17  spore-print-color         3124 non-null   int64  \n",
      " 18  population                3124 non-null   int64  \n",
      " 19  habitat                   3124 non-null   int64  \n",
      "dtypes: float64(2), int64(16), object(2)\n",
      "memory usage: 488.2+ KB\n"
     ]
    }
   ],
   "source": [
    "# Encoding categorical features\n",
    "msrm_df.info()"
   ]
  },
  {
   "cell_type": "code",
   "execution_count": null,
   "metadata": {
    "colab": {
     "base_uri": "https://localhost:8080/"
    },
    "id": "dyWIHZkYG-kw",
    "outputId": "ea034fbc-7ea3-40c4-e765-7ef6d2ef0bed"
   },
   "outputs": [
    {
     "data": {
      "text/plain": [
       "array(['bruises is there', 'no bruises'], dtype=object)"
      ]
     },
     "execution_count": 276,
     "metadata": {
      "tags": []
     },
     "output_type": "execute_result"
    }
   ],
   "source": [
    "msrm_df['bruises'].unique()"
   ]
  },
  {
   "cell_type": "code",
   "execution_count": null,
   "metadata": {
    "id": "tJIBluSbG_xe"
   },
   "outputs": [],
   "source": [
    "msrm_df['bruises']=msrm_df['bruises'].map({'bruises is there':1, 'no bruises':0})"
   ]
  },
  {
   "cell_type": "code",
   "execution_count": null,
   "metadata": {
    "colab": {
     "base_uri": "https://localhost:8080/"
    },
    "id": "GxBtnP05evMt",
    "outputId": "c2fe4542-8805-49f2-d8de-a55892534a44"
   },
   "outputs": [
    {
     "data": {
      "text/plain": [
       "array(['poisonous', 'edible'], dtype=object)"
      ]
     },
     "execution_count": 278,
     "metadata": {
      "tags": []
     },
     "output_type": "execute_result"
    }
   ],
   "source": [
    "msrm_df['class'].unique()"
   ]
  },
  {
   "cell_type": "code",
   "execution_count": null,
   "metadata": {
    "id": "fY5Qrce7exmR"
   },
   "outputs": [],
   "source": [
    "msrm_df['class']=msrm_df['class'].map({'poisonous':0, 'edible':1})"
   ]
  },
  {
   "cell_type": "code",
   "execution_count": null,
   "metadata": {
    "colab": {
     "base_uri": "https://localhost:8080/"
    },
    "id": "o3mOemmjHBaW",
    "outputId": "dc1c6b52-d9fd-4a53-fcfb-1dfcf4242e12"
   },
   "outputs": [
    {
     "name": "stdout",
     "output_type": "stream",
     "text": [
      "<class 'pandas.core.frame.DataFrame'>\n",
      "RangeIndex: 3124 entries, 0 to 3123\n",
      "Data columns (total 20 columns):\n",
      " #   Column                    Non-Null Count  Dtype  \n",
      "---  ------                    --------------  -----  \n",
      " 0   Unnamed: 0                3124 non-null   int64  \n",
      " 1   class                     3124 non-null   int64  \n",
      " 2   cap-shape                 3124 non-null   float64\n",
      " 3   cap-surface               3124 non-null   int64  \n",
      " 4   cap-color                 3124 non-null   float64\n",
      " 5   bruises                   3124 non-null   int64  \n",
      " 6   odor                      3124 non-null   int64  \n",
      " 7   stalk-shape               3124 non-null   int64  \n",
      " 8   stalk-root                3124 non-null   int64  \n",
      " 9   stalk-surface-above-ring  3124 non-null   int64  \n",
      " 10  stalk-surface-below-ring  3124 non-null   int64  \n",
      " 11  stalk-color-above-ring    3124 non-null   int64  \n",
      " 12  stalk-color-below-ring    3124 non-null   int64  \n",
      " 13  veil-type                 3124 non-null   int64  \n",
      " 14  veil-color                3124 non-null   int64  \n",
      " 15  ring-number               3124 non-null   int64  \n",
      " 16  ring-type                 3124 non-null   int64  \n",
      " 17  spore-print-color         3124 non-null   int64  \n",
      " 18  population                3124 non-null   int64  \n",
      " 19  habitat                   3124 non-null   int64  \n",
      "dtypes: float64(2), int64(18)\n",
      "memory usage: 488.2 KB\n"
     ]
    }
   ],
   "source": [
    "msrm_df.info()"
   ]
  },
  {
   "cell_type": "code",
   "execution_count": null,
   "metadata": {
    "colab": {
     "base_uri": "https://localhost:8080/"
    },
    "id": "QKXiT49tHCo5",
    "outputId": "90bdf6d2-282c-4586-b987-bba137b8b9ff"
   },
   "outputs": [
    {
     "data": {
      "text/plain": [
       "array([1])"
      ]
     },
     "execution_count": 282,
     "metadata": {
      "tags": []
     },
     "output_type": "execute_result"
    }
   ],
   "source": [
    "msrm_df['ring-number'].unique()"
   ]
  },
  {
   "cell_type": "code",
   "execution_count": null,
   "metadata": {
    "colab": {
     "base_uri": "https://localhost:8080/"
    },
    "id": "c7Sk1UGnHEVg",
    "outputId": "03ffa972-a2e1-4aec-8c9f-46898dfefab5"
   },
   "outputs": [
    {
     "name": "stdout",
     "output_type": "stream",
     "text": [
      "<class 'pandas.core.frame.DataFrame'>\n",
      "RangeIndex: 3124 entries, 0 to 3123\n",
      "Data columns (total 19 columns):\n",
      " #   Column                    Non-Null Count  Dtype  \n",
      "---  ------                    --------------  -----  \n",
      " 0   Unnamed: 0                3124 non-null   int64  \n",
      " 1   class                     3124 non-null   int64  \n",
      " 2   cap-shape                 3124 non-null   float64\n",
      " 3   cap-surface               3124 non-null   int64  \n",
      " 4   cap-color                 3124 non-null   float64\n",
      " 5   bruises                   3124 non-null   int64  \n",
      " 6   odor                      3124 non-null   int64  \n",
      " 7   stalk-shape               3124 non-null   int64  \n",
      " 8   stalk-root                3124 non-null   int64  \n",
      " 9   stalk-surface-above-ring  3124 non-null   int64  \n",
      " 10  stalk-surface-below-ring  3124 non-null   int64  \n",
      " 11  stalk-color-above-ring    3124 non-null   int64  \n",
      " 12  stalk-color-below-ring    3124 non-null   int64  \n",
      " 13  veil-type                 3124 non-null   int64  \n",
      " 14  veil-color                3124 non-null   int64  \n",
      " 15  ring-type                 3124 non-null   int64  \n",
      " 16  spore-print-color         3124 non-null   int64  \n",
      " 17  population                3124 non-null   int64  \n",
      " 18  habitat                   3124 non-null   int64  \n",
      "dtypes: float64(2), int64(17)\n",
      "memory usage: 463.8 KB\n"
     ]
    }
   ],
   "source": [
    "msrm_df.drop(['ring-number'], axis=1, inplace=True)\n",
    "msrm_df.info()"
   ]
  },
  {
   "cell_type": "code",
   "execution_count": null,
   "metadata": {
    "colab": {
     "base_uri": "https://localhost:8080/"
    },
    "id": "oupLWGbjHFhB",
    "outputId": "13fe967a-c5d8-4471-a5a6-40d931975e59"
   },
   "outputs": [
    {
     "data": {
      "text/plain": [
       "array([2])"
      ]
     },
     "execution_count": 284,
     "metadata": {
      "tags": []
     },
     "output_type": "execute_result"
    }
   ],
   "source": [
    "msrm_df['veil-color'].unique()"
   ]
  },
  {
   "cell_type": "code",
   "execution_count": null,
   "metadata": {
    "colab": {
     "base_uri": "https://localhost:8080/"
    },
    "id": "K7cQyoPIHGn8",
    "outputId": "71972f88-6723-4c2c-9766-f2f0b2eec458"
   },
   "outputs": [
    {
     "name": "stdout",
     "output_type": "stream",
     "text": [
      "<class 'pandas.core.frame.DataFrame'>\n",
      "RangeIndex: 3124 entries, 0 to 3123\n",
      "Data columns (total 18 columns):\n",
      " #   Column                    Non-Null Count  Dtype  \n",
      "---  ------                    --------------  -----  \n",
      " 0   Unnamed: 0                3124 non-null   int64  \n",
      " 1   class                     3124 non-null   int64  \n",
      " 2   cap-shape                 3124 non-null   float64\n",
      " 3   cap-surface               3124 non-null   int64  \n",
      " 4   cap-color                 3124 non-null   float64\n",
      " 5   bruises                   3124 non-null   int64  \n",
      " 6   odor                      3124 non-null   int64  \n",
      " 7   stalk-shape               3124 non-null   int64  \n",
      " 8   stalk-root                3124 non-null   int64  \n",
      " 9   stalk-surface-above-ring  3124 non-null   int64  \n",
      " 10  stalk-surface-below-ring  3124 non-null   int64  \n",
      " 11  stalk-color-above-ring    3124 non-null   int64  \n",
      " 12  stalk-color-below-ring    3124 non-null   int64  \n",
      " 13  veil-type                 3124 non-null   int64  \n",
      " 14  ring-type                 3124 non-null   int64  \n",
      " 15  spore-print-color         3124 non-null   int64  \n",
      " 16  population                3124 non-null   int64  \n",
      " 17  habitat                   3124 non-null   int64  \n",
      "dtypes: float64(2), int64(16)\n",
      "memory usage: 439.4 KB\n"
     ]
    }
   ],
   "source": [
    "msrm_df.drop(['veil-color'], axis=1, inplace=True)\n",
    "msrm_df.info()"
   ]
  },
  {
   "cell_type": "code",
   "execution_count": null,
   "metadata": {
    "colab": {
     "base_uri": "https://localhost:8080/"
    },
    "id": "H3MqIIw1HIH7",
    "outputId": "c16e1da6-19bd-4e28-a07a-dbbeabc3fcb1"
   },
   "outputs": [
    {
     "data": {
      "text/plain": [
       "array([0])"
      ]
     },
     "execution_count": 286,
     "metadata": {
      "tags": []
     },
     "output_type": "execute_result"
    }
   ],
   "source": [
    "msrm_df['veil-type'].unique()"
   ]
  },
  {
   "cell_type": "code",
   "execution_count": null,
   "metadata": {
    "colab": {
     "base_uri": "https://localhost:8080/"
    },
    "id": "w8_URfZIHN_a",
    "outputId": "605bff4e-ef89-4cb7-cfaf-b0ca9d020acf"
   },
   "outputs": [
    {
     "name": "stdout",
     "output_type": "stream",
     "text": [
      "<class 'pandas.core.frame.DataFrame'>\n",
      "RangeIndex: 3124 entries, 0 to 3123\n",
      "Data columns (total 17 columns):\n",
      " #   Column                    Non-Null Count  Dtype  \n",
      "---  ------                    --------------  -----  \n",
      " 0   Unnamed: 0                3124 non-null   int64  \n",
      " 1   class                     3124 non-null   int64  \n",
      " 2   cap-shape                 3124 non-null   float64\n",
      " 3   cap-surface               3124 non-null   int64  \n",
      " 4   cap-color                 3124 non-null   float64\n",
      " 5   bruises                   3124 non-null   int64  \n",
      " 6   odor                      3124 non-null   int64  \n",
      " 7   stalk-shape               3124 non-null   int64  \n",
      " 8   stalk-root                3124 non-null   int64  \n",
      " 9   stalk-surface-above-ring  3124 non-null   int64  \n",
      " 10  stalk-surface-below-ring  3124 non-null   int64  \n",
      " 11  stalk-color-above-ring    3124 non-null   int64  \n",
      " 12  stalk-color-below-ring    3124 non-null   int64  \n",
      " 13  ring-type                 3124 non-null   int64  \n",
      " 14  spore-print-color         3124 non-null   int64  \n",
      " 15  population                3124 non-null   int64  \n",
      " 16  habitat                   3124 non-null   int64  \n",
      "dtypes: float64(2), int64(15)\n",
      "memory usage: 415.0 KB\n"
     ]
    }
   ],
   "source": [
    "msrm_df.drop(['veil-type'], axis=1, inplace=True)\n",
    "msrm_df.info()"
   ]
  },
  {
   "cell_type": "code",
   "execution_count": null,
   "metadata": {
    "id": "UrkvhyZkHPkA"
   },
   "outputs": [],
   "source": [
    "msrm_df.drop(['Unnamed: 0'], axis=1, inplace=True)"
   ]
  },
  {
   "cell_type": "code",
   "execution_count": null,
   "metadata": {
    "id": "C_mzt3SUHeRD"
   },
   "outputs": [],
   "source": [
    "import matplotlib.pyplot as plt\n",
    "import seaborn as sns\n",
    "from sklearn.metrics import classification_report\n",
    "from sklearn.metrics import accuracy_score\n",
    "from sklearn.model_selection import train_test_split"
   ]
  },
  {
   "cell_type": "code",
   "execution_count": null,
   "metadata": {
    "colab": {
     "base_uri": "https://localhost:8080/",
     "height": 197
    },
    "id": "NQ2iGNakHnU7",
    "outputId": "d5a5cde5-1a0b-4a48-f5c1-62355dd3a2af"
   },
   "outputs": [
    {
     "data": {
      "text/html": [
       "<div>\n",
       "<style scoped>\n",
       "    .dataframe tbody tr th:only-of-type {\n",
       "        vertical-align: middle;\n",
       "    }\n",
       "\n",
       "    .dataframe tbody tr th {\n",
       "        vertical-align: top;\n",
       "    }\n",
       "\n",
       "    .dataframe thead th {\n",
       "        text-align: right;\n",
       "    }\n",
       "</style>\n",
       "<table border=\"1\" class=\"dataframe\">\n",
       "  <thead>\n",
       "    <tr style=\"text-align: right;\">\n",
       "      <th></th>\n",
       "      <th>class</th>\n",
       "      <th>cap-shape</th>\n",
       "      <th>cap-surface</th>\n",
       "      <th>cap-color</th>\n",
       "      <th>bruises</th>\n",
       "      <th>odor</th>\n",
       "      <th>stalk-shape</th>\n",
       "      <th>stalk-root</th>\n",
       "      <th>stalk-surface-above-ring</th>\n",
       "      <th>stalk-surface-below-ring</th>\n",
       "      <th>stalk-color-above-ring</th>\n",
       "      <th>stalk-color-below-ring</th>\n",
       "      <th>ring-type</th>\n",
       "      <th>spore-print-color</th>\n",
       "      <th>population</th>\n",
       "      <th>habitat</th>\n",
       "    </tr>\n",
       "  </thead>\n",
       "  <tbody>\n",
       "    <tr>\n",
       "      <th>0</th>\n",
       "      <td>0</td>\n",
       "      <td>5.0</td>\n",
       "      <td>2</td>\n",
       "      <td>4.0</td>\n",
       "      <td>1</td>\n",
       "      <td>6</td>\n",
       "      <td>0</td>\n",
       "      <td>3</td>\n",
       "      <td>2</td>\n",
       "      <td>2</td>\n",
       "      <td>7</td>\n",
       "      <td>7</td>\n",
       "      <td>4</td>\n",
       "      <td>2</td>\n",
       "      <td>3</td>\n",
       "      <td>5</td>\n",
       "    </tr>\n",
       "    <tr>\n",
       "      <th>1</th>\n",
       "      <td>1</td>\n",
       "      <td>5.0</td>\n",
       "      <td>2</td>\n",
       "      <td>9.0</td>\n",
       "      <td>1</td>\n",
       "      <td>0</td>\n",
       "      <td>0</td>\n",
       "      <td>2</td>\n",
       "      <td>2</td>\n",
       "      <td>2</td>\n",
       "      <td>7</td>\n",
       "      <td>7</td>\n",
       "      <td>4</td>\n",
       "      <td>3</td>\n",
       "      <td>2</td>\n",
       "      <td>1</td>\n",
       "    </tr>\n",
       "    <tr>\n",
       "      <th>2</th>\n",
       "      <td>1</td>\n",
       "      <td>0.0</td>\n",
       "      <td>2</td>\n",
       "      <td>8.0</td>\n",
       "      <td>1</td>\n",
       "      <td>3</td>\n",
       "      <td>0</td>\n",
       "      <td>2</td>\n",
       "      <td>2</td>\n",
       "      <td>2</td>\n",
       "      <td>7</td>\n",
       "      <td>7</td>\n",
       "      <td>4</td>\n",
       "      <td>3</td>\n",
       "      <td>2</td>\n",
       "      <td>3</td>\n",
       "    </tr>\n",
       "    <tr>\n",
       "      <th>3</th>\n",
       "      <td>0</td>\n",
       "      <td>5.0</td>\n",
       "      <td>3</td>\n",
       "      <td>8.0</td>\n",
       "      <td>1</td>\n",
       "      <td>6</td>\n",
       "      <td>0</td>\n",
       "      <td>3</td>\n",
       "      <td>2</td>\n",
       "      <td>2</td>\n",
       "      <td>7</td>\n",
       "      <td>7</td>\n",
       "      <td>4</td>\n",
       "      <td>2</td>\n",
       "      <td>3</td>\n",
       "      <td>5</td>\n",
       "    </tr>\n",
       "    <tr>\n",
       "      <th>4</th>\n",
       "      <td>1</td>\n",
       "      <td>5.0</td>\n",
       "      <td>2</td>\n",
       "      <td>3.0</td>\n",
       "      <td>0</td>\n",
       "      <td>5</td>\n",
       "      <td>1</td>\n",
       "      <td>3</td>\n",
       "      <td>2</td>\n",
       "      <td>2</td>\n",
       "      <td>7</td>\n",
       "      <td>7</td>\n",
       "      <td>0</td>\n",
       "      <td>3</td>\n",
       "      <td>0</td>\n",
       "      <td>1</td>\n",
       "    </tr>\n",
       "  </tbody>\n",
       "</table>\n",
       "</div>"
      ],
      "text/plain": [
       "   class  cap-shape  cap-surface  ...  spore-print-color  population  habitat\n",
       "0      0        5.0            2  ...                  2           3        5\n",
       "1      1        5.0            2  ...                  3           2        1\n",
       "2      1        0.0            2  ...                  3           2        3\n",
       "3      0        5.0            3  ...                  2           3        5\n",
       "4      1        5.0            2  ...                  3           0        1\n",
       "\n",
       "[5 rows x 16 columns]"
      ]
     },
     "execution_count": 290,
     "metadata": {
      "tags": []
     },
     "output_type": "execute_result"
    }
   ],
   "source": [
    "#SVM\n",
    "msrm_df_svm=msrm_df\n",
    "msrm_df_svm.head()"
   ]
  },
  {
   "cell_type": "code",
   "execution_count": null,
   "metadata": {
    "colab": {
     "base_uri": "https://localhost:8080/"
    },
    "id": "0optj8VKHwy_",
    "outputId": "cc714d3e-53b7-4a5c-b649-9b094c7a4302"
   },
   "outputs": [
    {
     "name": "stdout",
     "output_type": "stream",
     "text": [
      "0    0\n",
      "1    1\n",
      "2    1\n",
      "3    0\n",
      "4    1\n",
      "Name: class, dtype: int64\n",
      "   cap-shape  cap-surface  cap-color  ...  spore-print-color  population  habitat\n",
      "0        5.0            2        4.0  ...                  2           3        5\n",
      "1        5.0            2        9.0  ...                  3           2        1\n",
      "2        0.0            2        8.0  ...                  3           2        3\n",
      "3        5.0            3        8.0  ...                  2           3        5\n",
      "4        5.0            2        3.0  ...                  3           0        1\n",
      "\n",
      "[5 rows x 15 columns]\n"
     ]
    }
   ],
   "source": [
    "Y=msrm_df_svm.iloc[:,0] #target values\n",
    "X=msrm_df_svm.iloc[:,1:16] #feature values\n",
    "print(Y.head())\n",
    "print(X.head())"
   ]
  },
  {
   "cell_type": "code",
   "execution_count": null,
   "metadata": {
    "id": "Hp6b7dJpH4_y"
   },
   "outputs": [],
   "source": [
    "x_train, x_test, y_train, y_test = train_test_split(X, Y, test_size=0.2, random_state=10)"
   ]
  },
  {
   "cell_type": "code",
   "execution_count": null,
   "metadata": {
    "colab": {
     "base_uri": "https://localhost:8080/"
    },
    "id": "kA6m-rV5H-x0",
    "outputId": "f90b37ea-f315-4feb-c0e3-08cbca8636d5"
   },
   "outputs": [
    {
     "data": {
      "text/plain": [
       "SVC(C=1.0, break_ties=False, cache_size=200, class_weight=None, coef0=0.0,\n",
       "    decision_function_shape='ovr', degree=3, gamma='scale', kernel='linear',\n",
       "    max_iter=-1, probability=False, random_state=None, shrinking=True,\n",
       "    tol=0.001, verbose=False)"
      ]
     },
     "execution_count": 294,
     "metadata": {
      "tags": []
     },
     "output_type": "execute_result"
    }
   ],
   "source": [
    "from sklearn.svm import SVC\n",
    "svc = SVC(kernel=\"linear\")\n",
    "svc.fit(x_train, y_train)"
   ]
  },
  {
   "cell_type": "code",
   "execution_count": null,
   "metadata": {
    "colab": {
     "base_uri": "https://localhost:8080/"
    },
    "id": "1tu5XO0FIRwa",
    "outputId": "4673c300-ae98-4c17-fbe4-0504490b4f5a"
   },
   "outputs": [
    {
     "name": "stdout",
     "output_type": "stream",
     "text": [
      "Training Accuracy of the SVM model is:  0.99\n",
      "Testing Accuracy of the SVM model is:  0.99\n"
     ]
    }
   ],
   "source": [
    "pre_SVM_train=round(svc.score(x_train, y_train),2)\n",
    "pre_SVM_test=round(svc.score(x_test, y_test),2)\n",
    "print(\"Training Accuracy of the SVM model is: \",pre_SVM_train)\n",
    "print(\"Testing Accuracy of the SVM model is: \",pre_SVM_test)"
   ]
  },
  {
   "cell_type": "code",
   "execution_count": null,
   "metadata": {
    "colab": {
     "base_uri": "https://localhost:8080/"
    },
    "id": "9KthMSgiKG8l",
    "outputId": "530f8d37-4b58-4a9a-d2a5-b1c9cd69e291"
   },
   "outputs": [
    {
     "name": "stdout",
     "output_type": "stream",
     "text": [
      "[0 1 1 0 1 1 1 1 1 0 1 1 1 1 1 0 1 1 1 1 1 0 1 0 1 1 1 0 1 1 1 1 1 1 1 1 1\n",
      " 1 1 0 1 1 1 1 1 1 1 0 1 1 1 1 1 1 1 1 1 1 1 1 0 1 1 1 1 0 1 1 1 1 1 1 1 1\n",
      " 1 1 1 1 1 1 1 1 1 1 1 1 1 1 1 1 1 1 1 1 1 0 1 0 1 1 1 0 1 1 1 1 1 1 1 1 0\n",
      " 1 1 1 1 1 1 1 1 1 1 1 1 1 1 1 1 1 1 1 1 1 1 1 1 1 1 1 1 1 1 1 1 1 1 1 1 1\n",
      " 1 1 1 1 1 1 0 1 1 0 1 1 0 1 1 1 1 1 1 1 1 0 1 1 1 1 0 1 1 1 1 1 1 1 0 1 1\n",
      " 1 1 1 1 1 1 1 1 1 1 1 1 1 0 0 1 1 1 1 1 1 0 1 1 1 1 1 1 1 1 1 1 1 1 1 1 1\n",
      " 1 1 1 1 1 0 1 1 1 1 1 1 1 1 1 1 0 1 1 1 0 1 1 1 1 1 1 1 1 1 1 1 1 1 1 1 1\n",
      " 1 1 1 1 1 1 1 0 1 1 1 1 1 1 1 0 1 1 1 1 1 1 1 1 1 1 1 1 1 1 1 1 1 1 1 1 1\n",
      " 0 1 1 0 1 1 1 1 1 1 1 1 1 1 1 1 1 0 1 1 1 1 0 1 1 1 1 0 1 1 1 1 1 1 1 1 1\n",
      " 1 1 1 1 1 1 1 1 1 1 1 1 1 1 1 1 1 1 1 1 1 1 0 1 0 1 1 0 1 1 1 1 1 1 1 1 1\n",
      " 1 1 1 1 0 1 1 1 1 1 1 1 1 1 0 1 1 0 1 1 1 1 1 0 1 1 1 1 1 1 0 1 1 1 0 1 1\n",
      " 1 1 1 1 1 1 1 1 1 1 1 1 1 1 1 1 1 1 1 1 1 1 1 1 1 1 1 1 1 1 1 1 1 1 1 1 1\n",
      " 1 0 1 1 1 1 1 1 0 1 1 1 1 1 1 1 1 1 1 1 1 1 1 1 1 1 1 1 1 0 0 0 1 1 1 1 1\n",
      " 1 1 1 1 0 1 1 1 1 1 0 1 1 1 1 1 1 1 1 1 1 1 0 1 1 0 1 1 1 1 1 1 1 1 1 1 0\n",
      " 1 1 1 1 1 1 1 1 0 1 1 1 1 1 1 1 1 1 1 1 1 1 1 1 1 1 1 1 1 1 1 1 0 1 1 1 1\n",
      " 1 1 1 1 1 1 1 1 1 1 1 1 1 1 1 1 0 1 1 1 1 1 1 1 1 1 0 1 1 1 1 1 1 1 1 0 1\n",
      " 1 1 1 1 1 1 1 1 1 1 1 1 1 1 1 1 1 1 0 0 1 1 1 0 1 1 1 0 1 1 1 1 1]\n"
     ]
    }
   ],
   "source": [
    "predictions = svc.predict(x_test)\n",
    "print(predictions)"
   ]
  },
  {
   "cell_type": "code",
   "execution_count": null,
   "metadata": {
    "colab": {
     "base_uri": "https://localhost:8080/"
    },
    "id": "ko9Xzv4bKRtA",
    "outputId": "23640277-d9d8-4a21-b3c7-de8cf61611c3"
   },
   "outputs": [
    {
     "name": "stdout",
     "output_type": "stream",
     "text": [
      "[[ 62   0]\n",
      " [  4 559]]\n"
     ]
    }
   ],
   "source": [
    "from sklearn.metrics import confusion_matrix\n",
    "mat=confusion_matrix(predictions, y_test)\n",
    "print(mat)"
   ]
  },
  {
   "cell_type": "code",
   "execution_count": null,
   "metadata": {
    "colab": {
     "base_uri": "https://localhost:8080/",
     "height": 282
    },
    "id": "NCEuBBmsKjQh",
    "outputId": "19a58f13-20df-4865-b303-5efe41441d3d"
   },
   "outputs": [
    {
     "data": {
      "text/plain": [
       "<matplotlib.axes._subplots.AxesSubplot at 0x7fa4ae21ba58>"
      ]
     },
     "execution_count": 298,
     "metadata": {
      "tags": []
     },
     "output_type": "execute_result"
    },
    {
     "data": {
      "image/png": "[encoded data removed]",
      "text/plain": [
       "<Figure size 432x288 with 2 Axes>"
      ]
     },
     "metadata": {
      "needs_background": "light",
      "tags": []
     },
     "output_type": "display_data"
    }
   ],
   "source": [
    "from seaborn import heatmap\n",
    "heatmap(mat, xticklabels=['class_0','class_1'], yticklabels=['class_0','class_1'], annot=True)"
   ]
  },
  {
   "cell_type": "code",
   "execution_count": null,
   "metadata": {
    "colab": {
     "base_uri": "https://localhost:8080/"
    },
    "id": "UA97lZBuL2tN",
    "outputId": "842152d4-98a8-4f8e-bba7-443dbd135bf7"
   },
   "outputs": [
    {
     "data": {
      "text/plain": [
       "RandomForestClassifier(bootstrap=True, ccp_alpha=0.0, class_weight=None,\n",
       "                       criterion='gini', max_depth=None, max_features='auto',\n",
       "                       max_leaf_nodes=None, max_samples=None,\n",
       "                       min_impurity_decrease=0.0, min_impurity_split=None,\n",
       "                       min_samples_leaf=1, min_samples_split=2,\n",
       "                       min_weight_fraction_leaf=0.0, n_estimators=60,\n",
       "                       n_jobs=None, oob_score=False, random_state=None,\n",
       "                       verbose=0, warm_start=False)"
      ]
     },
     "execution_count": 299,
     "metadata": {
      "tags": []
     },
     "output_type": "execute_result"
    }
   ],
   "source": [
    "#random Forest\n",
    "from sklearn.ensemble import RandomForestClassifier\n",
    "rfc= RandomForestClassifier(n_estimators=60)\n",
    "rfc.fit(x_train, y_train)"
   ]
  },
  {
   "cell_type": "code",
   "execution_count": null,
   "metadata": {
    "colab": {
     "base_uri": "https://localhost:8080/"
    },
    "id": "n-IjkPPHMVRu",
    "outputId": "13fd8afb-37cb-4feb-fac7-21da2ea7f161"
   },
   "outputs": [
    {
     "name": "stdout",
     "output_type": "stream",
     "text": [
      "Training Accuracy of the RFC model is:  1.0\n",
      "Testing Accuracy of the RFC model is:  1.0\n"
     ]
    }
   ],
   "source": [
    "pre_RFC_train=round(rfc.score(x_train, y_train),2)\n",
    "pre_RFC_test=round(rfc.score(x_test, y_test),2)\n",
    "print(\"Training Accuracy of the RFC model is: \",pre_RFC_train)\n",
    "print(\"Testing Accuracy of the RFC model is: \",pre_RFC_test)"
   ]
  },
  {
   "cell_type": "code",
   "execution_count": null,
   "metadata": {
    "id": "JwYjyoZ1ObB0"
   },
   "outputs": [],
   "source": [
    "predictions=rfc.predict(x_test)"
   ]
  },
  {
   "cell_type": "code",
   "execution_count": null,
   "metadata": {
    "colab": {
     "base_uri": "https://localhost:8080/",
     "height": 315
    },
    "id": "QdBFfCPcOjKZ",
    "outputId": "b53d9a74-3b85-4175-8404-872ed0baf490"
   },
   "outputs": [
    {
     "name": "stdout",
     "output_type": "stream",
     "text": [
      "[[ 66   0]\n",
      " [  0 559]]\n"
     ]
    },
    {
     "data": {
      "text/plain": [
       "<matplotlib.axes._subplots.AxesSubplot at 0x7fa4ae222518>"
      ]
     },
     "execution_count": 302,
     "metadata": {
      "tags": []
     },
     "output_type": "execute_result"
    },
    {
     "data": {
      "image/png": "[encoded data removed]",
      "text/plain": [
       "<Figure size 432x288 with 2 Axes>"
      ]
     },
     "metadata": {
      "needs_background": "light",
      "tags": []
     },
     "output_type": "display_data"
    }
   ],
   "source": [
    "mat=confusion_matrix(predictions, y_test)\n",
    "print(mat)\n",
    "from seaborn import heatmap\n",
    "heatmap(mat, xticklabels=['class_0','class_1'], yticklabels=['class_0','class_1'], annot=True)"
   ]
  },
  {
   "cell_type": "code",
   "execution_count": null,
   "metadata": {
    "colab": {
     "base_uri": "https://localhost:8080/"
    },
    "id": "4vy9NIrnOv7-",
    "outputId": "8651ba31-fe8f-4270-e1ed-42b3f4bac0e0"
   },
   "outputs": [
    {
     "data": {
      "text/plain": [
       "MLPClassifier(activation='relu', alpha=0.0001, batch_size='auto', beta_1=0.9,\n",
       "              beta_2=0.999, early_stopping=False, epsilon=1e-08,\n",
       "              hidden_layer_sizes=5, learning_rate='constant',\n",
       "              learning_rate_init=0.001, max_fun=15000, max_iter=1000,\n",
       "              momentum=0.9, n_iter_no_change=10, nesterovs_momentum=True,\n",
       "              power_t=0.5, random_state=None, shuffle=True, solver='adam',\n",
       "              tol=0.0001, validation_fraction=0.1, verbose=False,\n",
       "              warm_start=False)"
      ]
     },
     "execution_count": 303,
     "metadata": {
      "tags": []
     },
     "output_type": "execute_result"
    }
   ],
   "source": [
    "#neural network\n",
    "\n",
    "from sklearn.neural_network import MLPClassifier\n",
    "nnc=MLPClassifier(hidden_layer_sizes=(5), activation=\"relu\", max_iter=1000)\n",
    "\n",
    "nnc.fit(x_train, y_train)"
   ]
  },
  {
   "cell_type": "code",
   "execution_count": null,
   "metadata": {
    "colab": {
     "base_uri": "https://localhost:8080/"
    },
    "id": "dvAkvjx9PMFV",
    "outputId": "b7581b25-f949-4b94-adc1-7659c4b599ac"
   },
   "outputs": [
    {
     "name": "stdout",
     "output_type": "stream",
     "text": [
      "Training Accuracy of the NNC model is:  1.0\n",
      "Testing Accuracy of the NNC model is:  1.0\n"
     ]
    }
   ],
   "source": [
    "pre_NNC_train=round(nnc.score(x_train, y_train),2)\n",
    "pre_NNC_test=round(nnc.score(x_test, y_test),2)\n",
    "print(\"Training Accuracy of the NNC model is: \",pre_NNC_train)\n",
    "print(\"Testing Accuracy of the NNC model is: \",pre_NNC_test)"
   ]
  },
  {
   "cell_type": "code",
   "execution_count": null,
   "metadata": {
    "colab": {
     "base_uri": "https://localhost:8080/"
    },
    "id": "kVXDbywCPWYm",
    "outputId": "89adc7ee-254c-4910-cdb2-8eb4b75ce96e"
   },
   "outputs": [
    {
     "name": "stdout",
     "output_type": "stream",
     "text": [
      "[0 1 1 0 1 1 1 1 1 0 1 1 1 1 1 0 1 1 1 1 1 0 1 0 1 1 1 0 1 1 1 1 1 1 1 1 1\n",
      " 1 1 0 1 1 1 1 1 1 1 0 1 1 1 1 1 1 1 1 1 1 1 1 0 1 1 1 1 0 1 1 1 1 1 1 1 1\n",
      " 1 1 1 1 1 1 1 1 1 1 1 1 1 1 1 1 1 1 1 1 1 0 1 0 1 1 1 0 1 1 1 1 1 1 1 1 0\n",
      " 1 1 1 1 1 1 1 1 1 1 1 1 1 1 1 1 1 1 1 1 1 1 1 1 1 1 1 1 1 1 1 1 1 1 1 1 1\n",
      " 1 1 1 1 1 1 0 1 1 0 1 1 0 1 1 1 1 1 1 1 1 0 1 1 1 1 0 1 1 1 1 1 1 1 0 1 1\n",
      " 1 1 1 1 1 1 1 1 1 1 1 1 1 0 0 1 1 1 1 1 1 0 1 1 1 1 1 1 1 1 1 1 1 1 1 1 1\n",
      " 1 1 1 1 1 0 0 1 1 1 1 1 1 1 1 1 0 1 1 1 0 1 1 1 1 1 1 1 1 1 1 1 1 1 1 1 1\n",
      " 1 1 1 1 1 1 1 0 1 1 1 1 1 1 1 0 1 1 1 1 1 1 1 1 1 1 1 1 1 1 1 1 1 1 1 1 1\n",
      " 0 1 1 0 1 1 1 1 1 1 1 1 1 1 1 1 1 0 1 1 1 1 0 1 1 1 1 0 1 1 1 1 1 1 1 1 1\n",
      " 1 1 1 1 1 1 1 1 1 1 1 1 1 1 1 1 1 1 1 1 1 1 0 1 0 1 1 0 1 1 1 1 1 1 1 1 1\n",
      " 1 1 1 1 0 1 1 1 1 1 1 1 1 1 0 1 1 0 1 1 1 1 1 0 0 1 1 1 1 1 0 1 1 1 0 1 1\n",
      " 1 1 1 1 1 1 1 1 1 1 1 1 1 1 1 1 1 0 1 1 1 1 1 1 1 1 1 1 1 1 1 1 1 1 1 1 1\n",
      " 1 0 1 1 1 1 1 1 0 1 1 1 1 1 1 1 1 1 1 1 1 1 1 1 1 1 1 1 1 0 0 0 1 1 1 1 1\n",
      " 1 1 1 1 0 1 1 1 1 1 0 1 1 1 1 1 1 1 1 1 1 1 0 1 1 0 1 1 1 1 1 1 1 1 1 1 0\n",
      " 1 1 1 1 1 1 1 1 0 1 1 1 1 1 1 1 1 1 1 1 1 1 1 1 1 1 1 1 1 1 0 1 0 1 1 1 1\n",
      " 1 1 1 1 1 1 1 1 1 1 1 1 1 1 1 1 0 1 1 1 1 1 1 1 1 1 0 1 1 1 1 1 1 1 1 0 1\n",
      " 1 1 1 1 1 1 1 1 1 1 1 1 1 1 1 1 1 1 0 0 1 1 1 0 1 1 1 0 1 1 1 1 1]\n"
     ]
    }
   ],
   "source": [
    "predictions=nnc.predict(x_test)\n",
    "print(predictions)"
   ]
  },
  {
   "cell_type": "code",
   "execution_count": null,
   "metadata": {
    "colab": {
     "base_uri": "https://localhost:8080/",
     "height": 315
    },
    "id": "kEOHYmy5PbtS",
    "outputId": "9b810e26-22e4-4ba4-e960-1565cc714558"
   },
   "outputs": [
    {
     "name": "stdout",
     "output_type": "stream",
     "text": [
      "[[ 66   0]\n",
      " [  0 559]]\n"
     ]
    },
    {
     "data": {
      "text/plain": [
       "<matplotlib.axes._subplots.AxesSubplot at 0x7fa4ae2f2898>"
      ]
     },
     "execution_count": 306,
     "metadata": {
      "tags": []
     },
     "output_type": "execute_result"
    },
    {
     "data": {
      "image/png": "[encoded data removed]",
      "text/plain": [
       "<Figure size 432x288 with 2 Axes>"
      ]
     },
     "metadata": {
      "needs_background": "light",
      "tags": []
     },
     "output_type": "display_data"
    }
   ],
   "source": [
    "mat=confusion_matrix(predictions, y_test)\n",
    "print(mat)\n",
    "from seaborn import heatmap\n",
    "heatmap(mat, xticklabels=['class_0','class_1'], yticklabels=['class_0','class_1'], annot=True)"
   ]
  },
  {
   "cell_type": "code",
   "execution_count": null,
   "metadata": {
    "colab": {
     "base_uri": "https://localhost:8080/"
    },
    "id": "oaAheJXBgLNx",
    "outputId": "5c2d5b65-71f5-45fb-e776-739aba1c179c"
   },
   "outputs": [
    {
     "name": "stdout",
     "output_type": "stream",
     "text": [
      "<class 'pandas.core.frame.DataFrame'>\n",
      "RangeIndex: 3124 entries, 0 to 3123\n",
      "Data columns (total 16 columns):\n",
      " #   Column                    Non-Null Count  Dtype  \n",
      "---  ------                    --------------  -----  \n",
      " 0   class                     3124 non-null   int64  \n",
      " 1   cap-shape                 3124 non-null   float64\n",
      " 2   cap-surface               3124 non-null   int64  \n",
      " 3   cap-color                 3124 non-null   float64\n",
      " 4   bruises                   3124 non-null   int64  \n",
      " 5   odor                      3124 non-null   int64  \n",
      " 6   stalk-shape               3124 non-null   int64  \n",
      " 7   stalk-root                3124 non-null   int64  \n",
      " 8   stalk-surface-above-ring  3124 non-null   int64  \n",
      " 9   stalk-surface-below-ring  3124 non-null   int64  \n",
      " 10  stalk-color-above-ring    3124 non-null   int64  \n",
      " 11  stalk-color-below-ring    3124 non-null   int64  \n",
      " 12  ring-type                 3124 non-null   int64  \n",
      " 13  spore-print-color         3124 non-null   int64  \n",
      " 14  population                3124 non-null   int64  \n",
      " 15  habitat                   3124 non-null   int64  \n",
      "dtypes: float64(2), int64(14)\n",
      "memory usage: 390.6 KB\n"
     ]
    }
   ],
   "source": [
    "msrm_df.info()"
   ]
  },
  {
   "cell_type": "code",
   "execution_count": null,
   "metadata": {
    "id": "42ws5laPPmb9"
   },
   "outputs": [],
   "source": [
    "#dimentionality Reduction\n",
    "from sklearn.decomposition import PCA\n",
    "pca= PCA(n_components=7)\n"
   ]
  },
  {
   "cell_type": "code",
   "execution_count": null,
   "metadata": {
    "colab": {
     "base_uri": "https://localhost:8080/"
    },
    "id": "KVcDxP2GbPvM",
    "outputId": "8f1449c5-71ee-44f2-9a5e-3f947ed327d8"
   },
   "outputs": [
    {
     "name": "stdout",
     "output_type": "stream",
     "text": [
      "[[-0.27600692  0.45851878 -1.50669147 ... -0.51067579  0.77617839\n",
      "   0.76029006]\n",
      " [ 4.7259875  -2.08529414 -2.26840403 ...  1.2610784   0.2307582\n",
      "  -0.36999098]\n",
      " [ 4.42298882 -0.8198611   2.77978448 ... -0.42576025  0.20770395\n",
      "   0.3147105 ]\n",
      " ...\n",
      " [-2.86684772 -1.86818978  2.13784842 ... -0.18540942 -1.44491361\n",
      "   0.82079908]\n",
      " [-4.16253897 -1.70007513 -0.30134407 ...  1.51405611  3.04160701\n",
      "   3.51736116]\n",
      " [-4.03768803 -1.33213665 -0.64551909 ...  0.47351646 -1.65573773\n",
      "   1.07090222]]\n"
     ]
    }
   ],
   "source": [
    "principal_components=pca.fit_transform(msrm_df)\n",
    "print(principal_components)"
   ]
  },
  {
   "cell_type": "code",
   "execution_count": null,
   "metadata": {
    "id": "x8M88ikGc_tF"
   },
   "outputs": [],
   "source": [
    "principal_df=pd.DataFrame(data=principal_components, columns=['comp 1', 'comp 2','comp 3','comp 4','comp 5','comp 6','comp 7'])\n",
    "reduced_df=pd.concat([principal_df, msrm_df[['class']]],axis=1)\n"
   ]
  },
  {
   "cell_type": "code",
   "execution_count": null,
   "metadata": {
    "colab": {
     "base_uri": "https://localhost:8080/",
     "height": 197
    },
    "id": "kO2tsZlReJVh",
    "outputId": "afc762cd-570d-45cc-fe32-94259712b695"
   },
   "outputs": [
    {
     "data": {
      "text/html": [
       "<div>\n",
       "<style scoped>\n",
       "    .dataframe tbody tr th:only-of-type {\n",
       "        vertical-align: middle;\n",
       "    }\n",
       "\n",
       "    .dataframe tbody tr th {\n",
       "        vertical-align: top;\n",
       "    }\n",
       "\n",
       "    .dataframe thead th {\n",
       "        text-align: right;\n",
       "    }\n",
       "</style>\n",
       "<table border=\"1\" class=\"dataframe\">\n",
       "  <thead>\n",
       "    <tr style=\"text-align: right;\">\n",
       "      <th></th>\n",
       "      <th>comp 1</th>\n",
       "      <th>comp 2</th>\n",
       "      <th>comp 3</th>\n",
       "      <th>comp 4</th>\n",
       "      <th>comp 5</th>\n",
       "      <th>comp 6</th>\n",
       "      <th>comp 7</th>\n",
       "      <th>class</th>\n",
       "    </tr>\n",
       "  </thead>\n",
       "  <tbody>\n",
       "    <tr>\n",
       "      <th>0</th>\n",
       "      <td>-0.276007</td>\n",
       "      <td>0.458519</td>\n",
       "      <td>-1.506691</td>\n",
       "      <td>4.533523</td>\n",
       "      <td>-0.510676</td>\n",
       "      <td>0.776178</td>\n",
       "      <td>0.760290</td>\n",
       "      <td>0</td>\n",
       "    </tr>\n",
       "    <tr>\n",
       "      <th>1</th>\n",
       "      <td>4.725987</td>\n",
       "      <td>-2.085294</td>\n",
       "      <td>-2.268404</td>\n",
       "      <td>-2.066984</td>\n",
       "      <td>1.261078</td>\n",
       "      <td>0.230758</td>\n",
       "      <td>-0.369991</td>\n",
       "      <td>1</td>\n",
       "    </tr>\n",
       "    <tr>\n",
       "      <th>2</th>\n",
       "      <td>4.422989</td>\n",
       "      <td>-0.819861</td>\n",
       "      <td>2.779784</td>\n",
       "      <td>0.727520</td>\n",
       "      <td>-0.425760</td>\n",
       "      <td>0.207704</td>\n",
       "      <td>0.314710</td>\n",
       "      <td>1</td>\n",
       "    </tr>\n",
       "    <tr>\n",
       "      <th>3</th>\n",
       "      <td>2.800681</td>\n",
       "      <td>-0.271528</td>\n",
       "      <td>-2.191530</td>\n",
       "      <td>3.564118</td>\n",
       "      <td>-2.678852</td>\n",
       "      <td>0.363342</td>\n",
       "      <td>1.356245</td>\n",
       "      <td>0</td>\n",
       "    </tr>\n",
       "    <tr>\n",
       "      <th>4</th>\n",
       "      <td>-0.807009</td>\n",
       "      <td>4.406493</td>\n",
       "      <td>-1.407628</td>\n",
       "      <td>0.117743</td>\n",
       "      <td>1.524267</td>\n",
       "      <td>-1.231956</td>\n",
       "      <td>0.572764</td>\n",
       "      <td>1</td>\n",
       "    </tr>\n",
       "  </tbody>\n",
       "</table>\n",
       "</div>"
      ],
      "text/plain": [
       "     comp 1    comp 2    comp 3    comp 4    comp 5    comp 6    comp 7  class\n",
       "0 -0.276007  0.458519 -1.506691  4.533523 -0.510676  0.776178  0.760290      0\n",
       "1  4.725987 -2.085294 -2.268404 -2.066984  1.261078  0.230758 -0.369991      1\n",
       "2  4.422989 -0.819861  2.779784  0.727520 -0.425760  0.207704  0.314710      1\n",
       "3  2.800681 -0.271528 -2.191530  3.564118 -2.678852  0.363342  1.356245      0\n",
       "4 -0.807009  4.406493 -1.407628  0.117743  1.524267 -1.231956  0.572764      1"
      ]
     },
     "execution_count": 251,
     "metadata": {
      "tags": []
     },
     "output_type": "execute_result"
    }
   ],
   "source": [
    "reduced_df.head()"
   ]
  },
  {
   "cell_type": "code",
   "execution_count": null,
   "metadata": {
    "colab": {
     "base_uri": "https://localhost:8080/"
    },
    "id": "so5mCKtigjUa",
    "outputId": "fb698662-7d9d-4593-aea1-967870530cf6"
   },
   "outputs": [
    {
     "name": "stdout",
     "output_type": "stream",
     "text": [
      "0    0\n",
      "1    1\n",
      "2    1\n",
      "3    0\n",
      "4    1\n",
      "Name: class, dtype: int64\n",
      "     comp 1    comp 2    comp 3    comp 4    comp 5    comp 6\n",
      "0 -0.276007  0.458519 -1.506691  4.533523 -0.510676  0.776178\n",
      "1  4.725987 -2.085294 -2.268404 -2.066984  1.261078  0.230758\n",
      "2  4.422989 -0.819861  2.779784  0.727520 -0.425760  0.207704\n",
      "3  2.800681 -0.271528 -2.191530  3.564118 -2.678852  0.363342\n",
      "4 -0.807009  4.406493 -1.407628  0.117743  1.524267 -1.231956\n"
     ]
    }
   ],
   "source": [
    "# applying svm, MLP and RFC again with reduced df\n",
    "Y=reduced_df.iloc[:,7] #target values\n",
    "X=reduced_df.iloc[:,0:6] #feature values\n",
    "print(Y.head())\n",
    "print(X.head())"
   ]
  },
  {
   "cell_type": "code",
   "execution_count": null,
   "metadata": {
    "id": "hLiXavrKhUSk"
   },
   "outputs": [],
   "source": [
    "x_train, x_test, y_train, y_test = train_test_split(X, Y, test_size=0.2, random_state=10)"
   ]
  },
  {
   "cell_type": "code",
   "execution_count": null,
   "metadata": {
    "colab": {
     "base_uri": "https://localhost:8080/"
    },
    "id": "VR5ScZCDhaka",
    "outputId": "82b055c5-3ca8-400d-bc40-90b050556fb4"
   },
   "outputs": [
    {
     "name": "stdout",
     "output_type": "stream",
     "text": [
      "Training Accuracy of the SVM model is:  0.95\n",
      "Testing Accuracy of the SVM model is:  0.96\n"
     ]
    }
   ],
   "source": [
    "svc.fit(x_train, y_train)\n",
    "\n",
    "post_SVM_train=round(svc.score(x_train, y_train),2)\n",
    "post_SVM_test=round(svc.score(x_test, y_test),2)\n",
    "print(\"Training Accuracy of the SVM model is: \",post_SVM_train)\n",
    "print(\"Testing Accuracy of the SVM model is: \",post_SVM_test)"
   ]
  },
  {
   "cell_type": "code",
   "execution_count": null,
   "metadata": {
    "colab": {
     "base_uri": "https://localhost:8080/"
    },
    "id": "08TMGxHqhk1X",
    "outputId": "b81348c5-b5a3-4ced-ff89-470b03ecd5bf"
   },
   "outputs": [
    {
     "name": "stdout",
     "output_type": "stream",
     "text": [
      "Training Accuracy of the RFC model is:  1.0\n",
      "Testing Accuracy of the RFC model is:  1.0\n"
     ]
    }
   ],
   "source": [
    "rfc.fit(x_train, y_train)\n",
    "\n",
    "post_RFC_train=round(rfc.score(x_train, y_train),2)\n",
    "post_RFC_test=round(rfc.score(x_test, y_test),2)\n",
    "print(\"Training Accuracy of the RFC model is: \",post_RFC_train)\n",
    "print(\"Testing Accuracy of the RFC model is: \",post_RFC_test)"
   ]
  },
  {
   "cell_type": "code",
   "execution_count": null,
   "metadata": {
    "colab": {
     "base_uri": "https://localhost:8080/"
    },
    "id": "ub7ZP4RHhtad",
    "outputId": "67f0bf47-4573-42d6-90af-908677acd949"
   },
   "outputs": [
    {
     "name": "stdout",
     "output_type": "stream",
     "text": [
      "Training Accuracy of the NNC model is:  0.99\n",
      "Testing Accuracy of the NNC model is:  1.0\n"
     ]
    }
   ],
   "source": [
    "nnc.fit(x_train, y_train)\n",
    "post_NNC_train=round(nnc.score(x_train, y_train),2)\n",
    "post_NNC_test=round(nnc.score(x_test, y_test),2)\n",
    "print(\"Training Accuracy of the NNC model is: \",post_NNC_train)\n",
    "print(\"Testing Accuracy of the NNC model is: \",post_NNC_test)"
   ]
  },
  {
   "cell_type": "code",
   "execution_count": null,
   "metadata": {
    "colab": {
     "base_uri": "https://localhost:8080/",
     "height": 808
    },
    "id": "41vlvNqph4m4",
    "outputId": "18fd8959-ddb2-4278-bf1f-9d076dbac189"
   },
   "outputs": [
    {
     "data": {
      "image/png": "[encoded data removed]",
      "text/plain": [
       "<Figure size 800x800 with 1 Axes>"
      ]
     },
     "metadata": {
      "needs_background": "light",
      "tags": []
     },
     "output_type": "display_data"
    }
   ],
   "source": [
    "#train accuracy compare\n",
    "labels = ['SVM', 'RFC', 'NNC']\n",
    "pre_pca = [pre_SVM_train, pre_RFC_train, pre_NNC_train,]\n",
    "post_pca = [post_SVM_train, post_RFC_train, post_NNC_train,]\n",
    "\n",
    "x = np.arange(len(labels))  # the label locations\n",
    "width = 0.35  # the width of the bars\n",
    "\n",
    "fig, ax = plt.subplots(figsize = (10,10), dpi=80)\n",
    "rects1 = ax.bar(x - width/2, pre_pca, width, label='Pre_PCA')\n",
    "rects2 = ax.bar(x + width/2, post_pca, width, label='post_PCA')\n",
    "\n",
    "# Add some text for labels, title and custom x-axis tick labels, etc.\n",
    "ax.set_ylabel('Scores')\n",
    "ax.set_title('Train Scores of SVM, RFC & NNC')\n",
    "ax.set_xticks(x)\n",
    "ax.set_xticklabels(labels)\n",
    "ax.legend()\n",
    "\n",
    "\n",
    "autolabel(rects1)\n",
    "autolabel(rects2)\n",
    "\n",
    "fig.tight_layout()\n",
    "\n",
    "plt.show()"
   ]
  },
  {
   "cell_type": "code",
   "execution_count": null,
   "metadata": {
    "colab": {
     "base_uri": "https://localhost:8080/",
     "height": 808
    },
    "id": "iXYOWt43n2rV",
    "outputId": "299887f7-c754-4376-af37-153e4a06bba9"
   },
   "outputs": [
    {
     "data": {
      "image/png": "[encoded data removed]",
      "text/plain": [
       "<Figure size 800x800 with 1 Axes>"
      ]
     },
     "metadata": {
      "needs_background": "light",
      "tags": []
     },
     "output_type": "display_data"
    }
   ],
   "source": [
    "#test accuracy compare\n",
    "labels = ['SVM', 'RFC', 'NNC']\n",
    "pre_pca = [pre_SVM_test, pre_RFC_test, pre_NNC_test,]\n",
    "post_pca = [post_SVM_test, post_RFC_test, post_NNC_test,]\n",
    "\n",
    "x = np.arange(len(labels))  # the label locations\n",
    "width = 0.35  # the width of the bars\n",
    "\n",
    "fig, ax = plt.subplots(figsize = (10,10), dpi=80)\n",
    "rects1 = ax.bar(x - width/2, pre_pca, width, label='Pre_PCA')\n",
    "rects2 = ax.bar(x + width/2, post_pca, width, label='post_PCA')\n",
    "\n",
    "# Add some text for labels, title and custom x-axis tick labels, etc.\n",
    "ax.set_ylabel('Scores')\n",
    "ax.set_title('Test Scores of SVM, RFC & NNC')\n",
    "ax.set_xticks(x)\n",
    "ax.set_xticklabels(labels)\n",
    "ax.legend()\n",
    "\n",
    "\n",
    "autolabel(rects1)\n",
    "autolabel(rects2)\n",
    "\n",
    "fig.tight_layout()\n",
    "\n",
    "plt.show()"
   ]
  }
 ],
 "metadata": {
  "colab": {
   "collapsed_sections": [],
   "name": "CSE422_Lab8.ipynb",
   "provenance": []
  },
  "kernelspec": {
   "display_name": "Python 3",
   "language": "python",
   "name": "python3"
  },
  "language_info": {
   "codemirror_mode": {
    "name": "ipython",
    "version": 3
   },
   "file_extension": ".py",
   "mimetype": "text/x-python",
   "name": "python",
   "nbconvert_exporter": "python",
   "pygments_lexer": "ipython3",
   "version": "3.8.5"
  }
 },
 "nbformat": 4,
 "nbformat_minor": 1
}
